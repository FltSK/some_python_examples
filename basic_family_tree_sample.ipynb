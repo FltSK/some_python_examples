{
  "nbformat": 4,
  "nbformat_minor": 0,
  "metadata": {
    "colab": {
      "provenance": []
    },
    "kernelspec": {
      "name": "python3",
      "display_name": "Python 3"
    },
    "language_info": {
      "name": "python"
    }
  },
  "cells": [
    {
      "cell_type": "code",
      "metadata": {
        "colab": {
          "base_uri": "https://localhost:8080/"
        },
        "id": "G1piuvDZhHWc",
        "outputId": "612b8856-e321-4576-c6b6-0fd1d9b660f0"
      },
      "source": [
        "soyağacı = dict()\n",
        "soyağacı_1 = dict()\n",
        "a=input(\"amca sayınızı girin\")\n",
        "h=input(\"hala sayınızı girin\")\n",
        "h1_k=input(\"hala kız çocukları isimleri\")\n",
        "h1_e=input(\"hala erkek çocukları isimleri\")\n",
        "a1_k=input(\"amca kız çocukları isimleri\")\n",
        "a1_e=input(\"amca erkek çocukları isimleri\")\n",
        "soyağacı={\"amca:\":a,\n",
        "          \"hala:\":h}\n",
        "soyağacı_1= {\"amca çocukları:\":{\"kızlar\":a1_k,\"erkekler\":a1_e},\n",
        "           \"hala çocukları:\":{\"kızlar\":h1_k,\"erkekler\":h1_e}}\n",
        "print(soyağacı,soyağacı_1)"
      ],
      "execution_count": null,
      "outputs": [
        {
          "output_type": "stream",
          "name": "stdout",
          "text": [
            "amca sayınızı girin0\n",
            "hala sayınızı girin1\n",
            "hala kız çocukları isimleribetül\n",
            "hala erkek çocukları isimleriemre,fatih\n",
            "amca kız çocukları isimleriyok\n",
            "amca erkek çocukları isimleriyok\n",
            "{'amca:': '0', 'hala:': '1'} {'amca çocukları:': {'kızlar': 'yok', 'erkekler': 'yok'}, 'hala çocukları:': {'kızlar': 'betül', 'erkekler': 'emre,fatih'}}\n"
          ]
        }
      ]
    }
  ]
}