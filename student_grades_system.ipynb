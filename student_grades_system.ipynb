{
  "nbformat": 4,
  "nbformat_minor": 0,
  "metadata": {
    "colab": {
      "provenance": []
    },
    "kernelspec": {
      "name": "python3",
      "display_name": "Python 3"
    },
    "language_info": {
      "name": "python"
    }
  },
  "cells": [
    {
      "cell_type": "code",
      "source": [
        "ogr_no=[]\n",
        "vize=[]\n",
        "final=[]\n",
        "ortalama=[]\n",
        "durum=[]\n",
        "import random\n",
        "for x in range(0,100):\n",
        "    ogr_no.append(x)\n",
        "    a=random.randint(1,100)\n",
        "    b=random.randint(1,100)\n",
        "    vize.append(a)\n",
        "    final.append(b)\n",
        "    ort=(4*a+6*b)/10\n",
        "    ortalama.append(ort)\n",
        "    if ort>50:\n",
        "      durum.append(\"G\")\n",
        "    else:\n",
        "      durum.append(\"K\")\n",
        "\n",
        "tekrar=1\n",
        "while tekrar == 1:\n",
        "  ogrno=int(input(\"Öğrenci Numarası Giriniz: \"))\n",
        "  print(ogr_no[ogrno])\n",
        "  print(ortalama[ogrno])\n",
        "  print(durum[ogrno])\n",
        "  tekrar=int(input(\"\"\"\n",
        "  başka bir öğrenciye bakmak için 1 yazın:\n",
        "  çıkmak için başka bir sayı yazınız:\n",
        "  \"\"\"))\n"
      ],
      "metadata": {
        "colab": {
          "base_uri": "https://localhost:8080/"
        },
        "id": "YwSmNAQDxNhc",
        "outputId": "c7fb48e6-3451-4732-c8f0-36f0d401a303"
      },
      "execution_count": null,
      "outputs": [
        {
          "name": "stdout",
          "output_type": "stream",
          "text": [
            "Öğrenci Numarası Giriniz: 98\n",
            "98\n",
            "1.4\n",
            "K\n",
            "\n",
            "  başka bir öğrenciye bakmak için 1 yazın: \n",
            "  çıkmak için başka bir sayı yazınız: \n",
            "  1\n",
            "Öğrenci Numarası Giriniz: 55\n",
            "55\n",
            "59.4\n",
            "G\n",
            "\n",
            "  başka bir öğrenciye bakmak için 1 yazın: \n",
            "  çıkmak için başka bir sayı yazınız: \n",
            "  5\n"
          ]
        }
      ]
    }
  ]
}