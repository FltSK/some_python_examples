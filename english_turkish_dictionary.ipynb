{
  "nbformat": 4,
  "nbformat_minor": 0,
  "metadata": {
    "colab": {
      "provenance": []
    },
    "kernelspec": {
      "name": "python3",
      "display_name": "Python 3"
    },
    "language_info": {
      "name": "python"
    }
  },
  "cells": [
    {
      "cell_type": "code",
      "source": [
        "turkcesozluk={\"run\":\"koşmak\",\"eat\":\"yemek\",\"food\":\"yiyecek\",}\n",
        "turkcesozluk2={\"koşmak\":\"run\",\"yemek\":\"eat\",\"yemek\":\"food\",}\n",
        "while True:\n",
        "  print(\"sözlükte yapabileceğiniz işlemler:yeni kelime ekleme =1,kelimelerin anlamlarnı düzeltme =2,sözlükten kelime silme =3,türkçe kelimelerin ingilizce karşılılarını bulma =4,programdan çıkış =5\")\n",
        "  q=int(input(\"yapmak istediğiniz işlemi giriniz:\"))\n",
        "  if (q==1):\n",
        "    a=input(\"eklemek istediğiniz ingilizce kelime:\")\n",
        "    b=input(\"eklemek istediğiniz kelimenin türkçe karşılığı:\")\n",
        "    turkcesozluk[a]=b\n",
        "    turkcesozluk2[b]=a\n",
        "    print(turkcesozluk)\n",
        "  elif (q==2):\n",
        "    a=input(\"düzeltmek istediğiniz ingilizce kelime:\")\n",
        "    b=input(\"düzelttiğiniz kelimenin yeni anlamı:\")\n",
        "    turkcesozluk[a]=b\n",
        "    turkcesozluk2[b]=a\n",
        "    print(turkcesozluk)\n",
        "  elif(q==3):\n",
        "    a=input(\"silmek istediğiniz ingilizce kelime:\")\n",
        "    del turkcesozluk[a]\n",
        "    print(turkcesozluk)\n",
        "  elif(q==4):\n",
        "    a=input(\"bulmak istediğiniz tükçe kelime:\")\n",
        "    print(turkcesozluk2.get(a))\n",
        "  elif(q==5):\n",
        "    break\n",
        "  elif(q>5):\n",
        "    print(\"yanlış işlem numarası girdiniz.\")\n"
      ],
      "metadata": {
        "colab": {
          "base_uri": "https://localhost:8080/"
        },
        "id": "AGAFKBcCzDQS",
        "outputId": "0f8bccd9-dc05-4db6-e6f6-953a3ed5f646"
      },
      "execution_count": null,
      "outputs": [
        {
          "name": "stdout",
          "output_type": "stream",
          "text": [
            "sözlükte yapabileceğiniz işlemler:yeni kelime ekleme =1,kelimelerin anlamlarnı düzeltme =2,sözlükten kelime silme =3,türkçe kelimelerin ingilizce karşılılarını bulma =4,programdan çıkış =5\n",
            "yapmak istediğiniz işlemi giriniz:5\n"
          ]
        }
      ]
    }
  ]
}