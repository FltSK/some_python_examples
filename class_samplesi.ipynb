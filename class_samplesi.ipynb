{
  "nbformat": 4,
  "nbformat_minor": 0,
  "metadata": {
    "colab": {
      "provenance": []
    },
    "kernelspec": {
      "name": "python3",
      "display_name": "Python 3"
    },
    "language_info": {
      "name": "python"
    }
  },
  "cells": [
    {
      "cell_type": "code",
      "execution_count": null,
      "metadata": {
        "id": "vKuC7fHcW8mU"
      },
      "outputs": [],
      "source": [
        "#class Personel1():\n",
        "\n",
        "  #def __init__(self,isimsoyisim,sicil,girisyili,maas,cocuksayisi,ceza,vardiye):\n",
        "      self.isimsoyisim = isimsoyisim\n",
        "      self.sicil = sicil\n",
        "      self.girisyili = girisyili\n",
        "      self.maas = maas\n",
        "      self.cocuksayisi = cocuksayisi\n",
        "      self.ceza=ceza\n",
        "      self.maasazalma=0\n",
        "      self.vardiye=vardiye\n",
        "  #def bilgilerigoster(self):\n",
        "      print(\"Personel bilgileri: \\nİsim Soyisim:{0} \\nSicil:{1} \\nGiriş yılı:{2} \\nMaaş:{3} \\nÇocuk sayısı:{4} \\nceza sayısı:{5} \\nvardiye sayısı:{6}\".format(self.isimsoyisim, self.sicil, self.girisyili, self.maas, self.cocuksayisi,self.ceza,self.vardiye))\n",
        "\n",
        "  #def MaasArttır(self,b):\n",
        "      self.maas+=int(b)\n",
        "  #def cocukarttir(self,a):\n",
        "      self.cocuksayisi+=a\n",
        "      if self.cocuksayisi a<3:\n",
        "          if self.cocuksayisi>2:\n",
        "              self.maas+=(self.maas*25/100)\n",
        "  #def ceza_ekle(self):\n",
        "     self.ceza+=1\n",
        "     if self.maasazalma==0:\n",
        "        if self.ceza>2:\n",
        "            self.maasazalma=1\n",
        "            self.maas-=(self.maas*25/100)\n",
        "        if self.vardiye ==3:\n",
        "            self.vardiye=1\n",
        "        else:\n",
        "            self.vardiye=3\n",
        "\n",
        ""
      ]
    },
    {
      "cell_type": "code",
      "source": [
        "personel1 = Personel1(\"ahmet abs\",23765123852,2015,4500,0,0,3)"
      ],
      "metadata": {
        "id": "iMBDR9yjeJc7"
      },
      "execution_count": null,
      "outputs": []
    },
    {
      "cell_type": "code",
      "source": [
        "personel1.bilgilerigoster()"
      ],
      "metadata": {
        "colab": {
          "base_uri": "https://localhost:8080/"
        },
        "id": "9aJlLooYebkk",
        "outputId": "d9a4be94-29c6-478e-94cd-3486151c94bb"
      },
      "execution_count": null,
      "outputs": [
        {
          "output_type": "stream",
          "name": "stdout",
          "text": [
            "Personel bilgileri: \n",
            "İsim Soyisim:serhun karadeniz \n",
            "Sicil:23765123852 \n",
            "Giriş yılı:2015 \n",
            "Maaş:4218.75 \n",
            "Çocuk sayısı:4 \n",
            "ceza sayısı:4 \n",
            "vardiye sayısı:1\n"
          ]
        }
      ]
    },
    {
      "cell_type": "code",
      "source": [
        "personel1.cocukarttir(1)\n",
        "personel1.ceza_ekle()"
      ],
      "metadata": {
        "id": "eVgokahrSAx8"
      },
      "execution_count": null,
      "outputs": []
    },
    {
      "cell_type": "code",
      "source": [
        "#personel sınıfından 5 tane personel ekle kullanıcılardan input girilsin;\n",
        "#her nesneyi listede tut,listeden sorgular çek\n",
        "#ceza almış personel listesi\n",
        "#vardiyelerin listesi;\n",
        "#döngüyle yapılıcak\n"
      ],
      "metadata": {
        "id": "mM7tSfOJS_-1"
      },
      "execution_count": null,
      "outputs": []
    },
    {
      "source": [
        "cezalı=[]\n",
        "vardiye=[]\n",
        "class Personel1():\n",
        "  personel=[] #List to store Personel1 objects\n",
        "  def __init__(self,isimsoyisim,sicil,girisyili,maas,cocuksayisi,vardiye):\n",
        "      self.isimsoyisim = isimsoyisim\n",
        "      self.sicil = sicil\n",
        "      self.girisyili = girisyili\n",
        "      self.maas = maas\n",
        "      self.cocuksayisi = cocuksayisi\n",
        "\n",
        "      self.ceza=0\n",
        "      self.maasazalma=0\n",
        "      self.vardiye=vardiye\n",
        "      self.personel.append(self) # Append the object itself to the list\n",
        "  def bilgilerigoster(self):\n",
        "      print(\"Personel bilgileri: \\nİsim Soyisim:{0} \\nSicil:{1} \\nGiriş yılı:{2} \\nMaaş:{3} \\nÇocuk sayısı:{4} \\nceza sayısı:{5} \\nvardiye sayısı:{6}\".format(self.isimsoyisim, self.sicil, self.girisyili, self.maas, self.cocuksayisi,self.ceza,self.vardiye))\n",
        "\n",
        "  def MaasArttir(self,b):\n",
        "      self.maas+=int(b)\n",
        "\n",
        "  def cocukarttir(self,a):\n",
        "      self.cocuksayisi+=a\n",
        "      if self.cocuksayisi-a<3:\n",
        "          if self.cocuksayisi>2:\n",
        "              self.maas+=(self.maas*25/100)\n",
        "  def ceza_ekle(self):\n",
        "     self.ceza+=1\n",
        "     if self.ceza ==1:\n",
        "        cezalı.append(self.isimsoyisim)\n",
        "     if self.maasazalma==0:\n",
        "        if self.ceza>2:\n",
        "            self.maasazalma=1\n",
        "            self.maas-=(self.maas*25/100)\n",
        "        if self.vardiye ==3:\n",
        "            self.vardiye=1\n",
        "        else:\n",
        "            self.vardiye=3\n",
        "\n",
        "while True:\n",
        "    a = int(input(\"\"\"\n",
        "    1) personel ekle\n",
        "    2) cezalıları listele\n",
        "    3) bilgileri görüntüle\n",
        "    4) ceza ekle\n",
        "    5) çıkış\n",
        "\n",
        "    \"\"\"))\n",
        "    if a == 1:\n",
        "      i=Personel1(input('isim giriniz:'),input('sicil giriniz:'),input('giriş yılı girin:'),input('maaş miktarını girin:'),input('çocuksayısnı giriniz:'),input('vardiye giriniz:'))\n",
        "\n",
        "    elif a == 2:\n",
        "        print(cezalı) # Print the list of penalized personnel\n",
        "    elif a == 3:\n",
        "      c = input('bilgilerini görmek istedğiniz kişinin adını girinzi:')\n",
        "      for person in Personel1.personel: # Iterate through the list of personnel\n",
        "          if person.isimsoyisim == c: # Check if the name matches\n",
        "              person.bilgilerigoster() # Call the method on the correct object\n",
        "              break\n",
        "      else:\n",
        "          print(\"Personel bulunamadı.\") # Print a message if the person is not found\n",
        "    elif a == 4:\n",
        "      h = input('ceza eklemek istediğiniz kişinin adını giriniz:')\n",
        "      for person in Personel1.personel: # Iterate through the list of personnel\n",
        "          if person.isimsoyisim == h: # Check if the name matches\n",
        "              person.ceza_ekle()  # Call the method on the correct object\n",
        "              break\n",
        "      else:\n",
        "          print(\"Personel bulunamadı.\") # Print a message if the person is not found\n",
        "    elif a == 5:\n",
        "      break"
      ],
      "cell_type": "code",
      "metadata": {
        "colab": {
          "base_uri": "https://localhost:8080/"
        },
        "id": "HdDIdQUAQrJj",
        "outputId": "fd7eadb3-4652-4612-e16c-544fb8fac26f"
      },
      "execution_count": 24,
      "outputs": [
        {
          "name": "stdout",
          "output_type": "stream",
          "text": [
            "\n",
            "    1) personel ekle\n",
            "    2) cezalıları listele\n",
            "    3) bilgileri görüntüle\n",
            "    4) ceza ekle\n",
            "    5) çıkış\n",
            "    \n",
            "    1\n",
            "isim giriniz:ahmet\n",
            "sicil giriniz:448\n",
            "giriş yılı girin:2021\n",
            "maaş miktarını girin:50000\n",
            "çocuksayısnı giriniz:2\n",
            "vardiye giriniz:21\n",
            "\n",
            "    1) personel ekle\n",
            "    2) cezalıları listele\n",
            "    3) bilgileri görüntüle\n",
            "    4) ceza ekle\n",
            "    5) çıkış\n",
            "    \n",
            "    3\n",
            "bilgilerini görmek istedğiniz kişinin adını girinzi:ahmet\n",
            "Personel bilgileri: \n",
            "İsim Soyisim:ahmet \n",
            "Sicil:448 \n",
            "Giriş yılı:2021 \n",
            "Maaş:50000 \n",
            "Çocuk sayısı:2 \n",
            "ceza sayısı:0 \n",
            "vardiye sayısı:21\n",
            "\n",
            "    1) personel ekle\n",
            "    2) cezalıları listele\n",
            "    3) bilgileri görüntüle\n",
            "    4) ceza ekle\n",
            "    5) çıkış\n",
            "    \n",
            "    5\n"
          ]
        }
      ]
    },
    {
      "cell_type": "code",
      "source": [
        "cezalı"
      ],
      "metadata": {
        "colab": {
          "base_uri": "https://localhost:8080/"
        },
        "id": "ZlKTwhyg0fnL",
        "outputId": "d4c72266-4ab8-454e-8c94-f281761aef93"
      },
      "execution_count": 27,
      "outputs": [
        {
          "output_type": "execute_result",
          "data": {
            "text/plain": [
              "[]"
            ]
          },
          "metadata": {},
          "execution_count": 27
        }
      ]
    },
    {
      "cell_type": "code",
      "source": [
        "def calisanismi():\n",
        "  for i in range(1,6):\n",
        "    print(i)\n",
        "calisanismi()"
      ],
      "metadata": {
        "colab": {
          "base_uri": "https://localhost:8080/"
        },
        "id": "QZw7wlHp9udW",
        "outputId": "4b5ad969-5c31-4bbe-e0c3-438ecf5167a9"
      },
      "execution_count": null,
      "outputs": [
        {
          "output_type": "stream",
          "name": "stdout",
          "text": [
            "1\n",
            "2\n",
            "3\n",
            "4\n",
            "5\n"
          ]
        }
      ]
    },
    {
      "cell_type": "code",
      "source": [
        "class Personel():\n",
        "  personel=[]\n",
        "  def __init__(self,sicil,isim):\n",
        "    self.sicil = sicil\n",
        "    self.isim = isim\n",
        "    self.personel_ekle(isim)\n",
        "    print('yeni personel eklendi....')\n",
        "\n",
        "  def goster(self):\n",
        "    print(self.sicil,self.isim)\n",
        "\n",
        "  @classmethod\n",
        "  def personel_ekle(cls,isim):\n",
        "    cls.personel.append(isim)\n",
        "  @classmethod\n",
        "  def personelleri_goster(clc):\n",
        "    print(clc.personel)\n",
        ""
      ],
      "metadata": {
        "id": "pEk5G05BN8G0"
      },
      "execution_count": null,
      "outputs": []
    },
    {
      "cell_type": "code",
      "source": [
        "class Kitaplik():\n",
        "  kitapliklar=[]\n",
        "  def __init__(self,isim):\n",
        "    self.kitapliklar.append(isim)\n",
        "    self.kitaplar = []\n",
        "    print(\"kitaplık oluşturuldu...\")\n",
        "  def kitap_ekle(self,kitap_adi,kitap_turu):\n",
        "    self.kitaplar.append([kitap_adi,kitap_turu])\n",
        "  def kitap_goster(self):\n",
        "    print(self.kitaplar)\n",
        "  @classmethod\n",
        "  def kitapliklari_goster(cls):\n",
        "    print(cls.kitapliklar)"
      ],
      "metadata": {
        "id": "wfnHi45hPIYu"
      },
      "execution_count": null,
      "outputs": []
    },
    {
      "cell_type": "code",
      "source": [
        "serhun_kitaplık=Kitaplik(\"serhun'un kitaplığı\")"
      ],
      "metadata": {
        "colab": {
          "base_uri": "https://localhost:8080/"
        },
        "id": "Tx3cjxLDSWBD",
        "outputId": "22ab7384-60b1-428b-a381-9a549903a727"
      },
      "execution_count": null,
      "outputs": [
        {
          "output_type": "stream",
          "name": "stdout",
          "text": [
            "kitaplık oluşturuldu...\n"
          ]
        }
      ]
    },
    {
      "cell_type": "code",
      "source": [
        "serhun_kitaplık.kitap_ekle(\"abc\",\"macera\")"
      ],
      "metadata": {
        "id": "bG1C3PbQS6Td"
      },
      "execution_count": null,
      "outputs": []
    },
    {
      "cell_type": "code",
      "source": [
        "serhun_kitaplık.kitap_goster()"
      ],
      "metadata": {
        "colab": {
          "base_uri": "https://localhost:8080/"
        },
        "id": "6GwGYgzfTJDD",
        "outputId": "6cc4af58-ddf0-411d-f588-3709a5a071d7"
      },
      "execution_count": null,
      "outputs": [
        {
          "output_type": "stream",
          "name": "stdout",
          "text": [
            "[['abc', 'macera']]\n"
          ]
        }
      ]
    },
    {
      "cell_type": "code",
      "source": [
        "Kitaplik.kitapliklari_goster()"
      ],
      "metadata": {
        "colab": {
          "base_uri": "https://localhost:8080/"
        },
        "id": "bIMyYieOTCqn",
        "outputId": "2b17e93f-a392-44b9-9aec-d4a3a776e3a6"
      },
      "execution_count": null,
      "outputs": [
        {
          "output_type": "stream",
          "name": "stdout",
          "text": [
            "[\"serhun'un kitaplığı\"]\n"
          ]
        }
      ]
    },
    {
      "cell_type": "code",
      "source": [
        "#telefpn rehperi adında bir sınıf o sınıftan kimin telefon rehberi olduğuna dair isim alınsın\n",
        "#veri ekleyin verileri gösterin,kaçtane nesne türetilmiş onları ekrana yazdır."
      ],
      "metadata": {
        "id": "Wm3FcNkkToHL"
      },
      "execution_count": null,
      "outputs": []
    },
    {
      "cell_type": "code",
      "source": [
        "class telefon_rehberi():\n",
        "  rehberler=[]\n",
        "  def __init__(self,isim):\n",
        "    self.rehberler.append(isim)\n",
        "    self.kisi_rehebri=[]\n",
        "    print(\"rehber oluşturuldu...\")\n",
        "  def veri_ekle(self,kisi_ismi,telefon_numarasi):\n",
        "    self.kisi_rehebri.append([kisi_ismi,telefon_numarasi])\n",
        "  def veri_goster(self):\n",
        "    print(self.kisi_rehebri)\n",
        "  @classmethod\n",
        "  def nesneleri_goster(cls):\n",
        "    print(cls.rehberler)"
      ],
      "metadata": {
        "id": "MTR9bXDDT34D"
      },
      "execution_count": null,
      "outputs": []
    },
    {
      "cell_type": "code",
      "source": [
        "x=telefon_rehberi(\"serhun'un rehberi\")"
      ],
      "metadata": {
        "colab": {
          "base_uri": "https://localhost:8080/"
        },
        "id": "m-04XQZpVZfm",
        "outputId": "a420c92c-092f-46be-a29d-36c6956e8375"
      },
      "execution_count": null,
      "outputs": [
        {
          "output_type": "stream",
          "name": "stdout",
          "text": [
            "rehber oluşturuldu...\n"
          ]
        }
      ]
    },
    {
      "cell_type": "code",
      "source": [
        "x.veri_ekle('serhun',5370463845)"
      ],
      "metadata": {
        "id": "B1_tl47GV6iy"
      },
      "execution_count": null,
      "outputs": []
    },
    {
      "cell_type": "code",
      "source": [
        "y=telefon_rehberi(\"ahmet'in rehberi\")"
      ],
      "metadata": {
        "colab": {
          "base_uri": "https://localhost:8080/"
        },
        "id": "T9La9eLHWekX",
        "outputId": "c4d4ab38-6735-4644-e5bb-1549697c34d1"
      },
      "execution_count": null,
      "outputs": [
        {
          "output_type": "stream",
          "name": "stdout",
          "text": [
            "rehber oluşturuldu...\n"
          ]
        }
      ]
    },
    {
      "cell_type": "code",
      "source": [
        "y.veri_ekle('ahmet',546569645)"
      ],
      "metadata": {
        "id": "g2JqljpKWn0F"
      },
      "execution_count": null,
      "outputs": []
    },
    {
      "cell_type": "code",
      "source": [
        "y.veri_goster()"
      ],
      "metadata": {
        "colab": {
          "base_uri": "https://localhost:8080/"
        },
        "id": "stM6EuYqWuoL",
        "outputId": "bb49de72-fdc3-45b1-e50b-5c15a254c101"
      },
      "execution_count": null,
      "outputs": [
        {
          "output_type": "stream",
          "name": "stdout",
          "text": [
            "[['ahmet', 546569645]]\n"
          ]
        }
      ]
    },
    {
      "cell_type": "code",
      "source": [
        "x.veri_goster()"
      ],
      "metadata": {
        "colab": {
          "base_uri": "https://localhost:8080/"
        },
        "id": "oegK8NYxWyqQ",
        "outputId": "e13b48c0-3616-4f32-c248-99e62a0f0bb8"
      },
      "execution_count": null,
      "outputs": [
        {
          "output_type": "stream",
          "name": "stdout",
          "text": [
            "[['serhun', 5370463845]]\n"
          ]
        }
      ]
    },
    {
      "cell_type": "code",
      "source": [
        "telefon_rehberi.nesneleri_goster()"
      ],
      "metadata": {
        "colab": {
          "base_uri": "https://localhost:8080/"
        },
        "id": "XfgxThqKW3fv",
        "outputId": "4e4d4919-58d7-478b-b628-974c3ddac4ed"
      },
      "execution_count": null,
      "outputs": [
        {
          "output_type": "stream",
          "name": "stdout",
          "text": [
            "[\"serhun'un rehberi\", \"ahmet'in rehberi\"]\n"
          ]
        }
      ]
    },
    {
      "cell_type": "code",
      "source": [
        "#öğrenci otomasyon sistemi;\n",
        "#1-ders programı(bu yok)\n",
        "#2-öğrenci (no,isim,bölüm,dönem,ort,girişyılı,adığı dersler)(ogrenci_ekle(),bilgileri_goster(),ders_ekle())\n",
        "#3-dersler (kredisi,ismi,kodu,öğretim_görevlisi,dönem)(öğretim_görevlisi_ekle(),bilgileri_göster(),kontenjan_ekle(),ders_ekle())\n",
        "#4-öğretim görevlileri (sicil_no,isim,bolum,unvan) (bilgileri_goster(),ogretim_uyesi_ekle())"
      ],
      "metadata": {
        "id": "8My4cGSudM9E"
      },
      "execution_count": null,
      "outputs": []
    },
    {
      "cell_type": "code",
      "source": [
        "class Kullanici():\n",
        "  ogrenci=[]\n",
        "  def __init__(self,isim_soyisim):\n",
        "    self.ogrenci.append(isim_soyisim)\n",
        "    self.ogrenci_bilgi= []\n",
        "    self.dersler = []\n",
        "    print(\"Öğrenci başarıyla oluşturuldu...\")\n",
        "  def ogrenci_ekle(self,no,isim_soyisim,bolum,donem,ort,girisyili,aldigi_dersler):\n",
        "    self.ogrenci_bilgi.append([no,isim_soyisim,bolum,donem,ort,girisyili,aldigi_dersler])\n",
        "    self.dersler.append(aldigi_dersler)\n",
        "  def ders_ekle(self,ek_ders):\n",
        "    self.dersler.append(ek_ders)\n",
        "  def Bilgileri_goster(self):\n",
        "    print(self.ogrenci_bilgi)\n",
        "  @classmethod\n",
        "  def ogrenci_goster(cls):\n",
        "    print(cls.ogrenci)\n",
        "class Dersler(Kullanici):\n",
        "  dersi_olan_ogretim_gorevlileri=[]\n",
        "  def __init__(self):\n",
        "    print('ders başarıyla oluşturuldu...')\n",
        "    self.derslero = []\n",
        "  def ders_ekle(self,dersek,ogretim_gorevlisi,kredisi,kodu,donem,kontenjani):\n",
        "    self.derslero.append([dersek,ogretim_gorevlisi,kredisi,kodu,donem,kontenjani])\n",
        "    self.dersi_olan_ogretim_gorevlileri.append(ogretim_gorevlisi)\n",
        "    print('ders başarı ile eklendi...')\n",
        "  @classmethod\n",
        "  def ogretim_uyesi_ekle(cls,ismi,dersleri):\n",
        "    cls.dersi_olan_ogretim_gorevlileri.append([ismi,dersleri])\n",
        "    print('öğretim görevlisi başarıyla eklendi...')\n",
        "  def ders_bilgileri(self):\n",
        "    print(self.derslero)\n",
        "class Ogretim_gorevlileri(Kullanici):\n",
        "  ogretim_gorevlileri=[]\n",
        "  def __init__(self):\n",
        "    print('öğretim görevilisi kaydı başarıyla oluşturuldu...')\n",
        "    self.ogrt_bilgi=[]\n",
        "  @classmethod\n",
        "  def ogrt_bilgi_goster(self):\n",
        "    print(self.ogretim_gorevlileri)\n",
        "  @classmethod\n",
        "  def ogretim_gorevlisi_ekle(cls,sicil_no,isim,bolum,unvan):\n",
        "      cls.ogretim_gorevlileri.append([sicil_no,isim,bolum,unvan])\n",
        "      print('Bilgiler başarıyla kaydedildi...')\n"
      ],
      "metadata": {
        "id": "9kxB2Of6fUsx"
      },
      "execution_count": null,
      "outputs": []
    },
    {
      "cell_type": "code",
      "source": [
        "birinci=Kullanici('serhun karadeniz')"
      ],
      "metadata": {
        "colab": {
          "base_uri": "https://localhost:8080/"
        },
        "id": "IeiRKgrQi9M2",
        "outputId": "4f4adda3-eb50-4807-cc46-aca2d9ef7400"
      },
      "execution_count": null,
      "outputs": [
        {
          "output_type": "stream",
          "name": "stdout",
          "text": [
            "Öğrenci başarıyla oluşturuldu...\n"
          ]
        }
      ]
    },
    {
      "cell_type": "code",
      "source": [
        "birinci.ogrenci_ekle(1111111110,'ahmet abc','mat-bil','birinci dönem',2.28,2021,'bilgisayar programlama,tbt,analiz')"
      ],
      "metadata": {
        "id": "6eKucWy-jHRf",
        "colab": {
          "base_uri": "https://localhost:8080/",
          "height": 141
        },
        "outputId": "ac92473c-e08e-4697-ad4f-da9faadd8a14"
      },
      "execution_count": 1,
      "outputs": [
        {
          "output_type": "error",
          "ename": "NameError",
          "evalue": "name 'birinci' is not defined",
          "traceback": [
            "\u001b[0;31m---------------------------------------------------------------------------\u001b[0m",
            "\u001b[0;31mNameError\u001b[0m                                 Traceback (most recent call last)",
            "\u001b[0;32m<ipython-input-1-3ed1dc416e08>\u001b[0m in \u001b[0;36m<cell line: 1>\u001b[0;34m()\u001b[0m\n\u001b[0;32m----> 1\u001b[0;31m \u001b[0mbirinci\u001b[0m\u001b[0;34m.\u001b[0m\u001b[0mogrenci_ekle\u001b[0m\u001b[0;34m(\u001b[0m\u001b[0;36m1111111110\u001b[0m\u001b[0;34m,\u001b[0m\u001b[0;34m'ahmet abc'\u001b[0m\u001b[0;34m,\u001b[0m\u001b[0;34m'mat-bil'\u001b[0m\u001b[0;34m,\u001b[0m\u001b[0;34m'birinci dönem'\u001b[0m\u001b[0;34m,\u001b[0m\u001b[0;36m2.28\u001b[0m\u001b[0;34m,\u001b[0m\u001b[0;36m2021\u001b[0m\u001b[0;34m,\u001b[0m\u001b[0;34m'bilgisayar programlama,tbt,analiz'\u001b[0m\u001b[0;34m)\u001b[0m\u001b[0;34m\u001b[0m\u001b[0;34m\u001b[0m\u001b[0m\n\u001b[0m",
            "\u001b[0;31mNameError\u001b[0m: name 'birinci' is not defined"
          ]
        }
      ]
    },
    {
      "cell_type": "code",
      "source": [
        "birinci.Bilgileri_goster()"
      ],
      "metadata": {
        "colab": {
          "base_uri": "https://localhost:8080/"
        },
        "id": "ZMSs7ePGjnhr",
        "outputId": "1a4124da-9ebe-447c-ff64-a75272df4206"
      },
      "execution_count": null,
      "outputs": [
        {
          "output_type": "stream",
          "name": "stdout",
          "text": [
            "[[121620211680, 'serhun karadeniz', 'mat-bil', 'birinci dönem', 2.28, 2021, 'bilgisayar programlama,tbt,analiz']]\n"
          ]
        }
      ]
    },
    {
      "cell_type": "code",
      "source": [
        "Kullanici.ogrenci_goster()\n"
      ],
      "metadata": {
        "colab": {
          "base_uri": "https://localhost:8080/"
        },
        "id": "LYiWdvqeg1uX",
        "outputId": "a6ceea07-ec6f-4cc1-d155-b4f7d405c7e0"
      },
      "execution_count": null,
      "outputs": [
        {
          "output_type": "stream",
          "name": "stdout",
          "text": [
            "['serhun karadeniz']\n"
          ]
        }
      ]
    },
    {
      "cell_type": "code",
      "source": [
        "birinci.ders_ekle('türkdili,ingilizce,sağlıklı beslenme ')"
      ],
      "metadata": {
        "id": "v3MLSD41j93W"
      },
      "execution_count": null,
      "outputs": []
    },
    {
      "cell_type": "code",
      "source": [
        "birinci.dersler"
      ],
      "metadata": {
        "colab": {
          "base_uri": "https://localhost:8080/"
        },
        "id": "wkiPX7uPkIqh",
        "outputId": "0ec69bd3-6c0e-4049-f17d-cd8454f1aa9d"
      },
      "execution_count": null,
      "outputs": [
        {
          "output_type": "execute_result",
          "data": {
            "text/plain": [
              "['bilgisayar programlama,tbt,analiz', 'türkdili,ingilizce,sağlıklı beslenme ']"
            ]
          },
          "metadata": {},
          "execution_count": 9
        }
      ]
    },
    {
      "cell_type": "code",
      "source": [
        "dersbir=Dersler()"
      ],
      "metadata": {
        "colab": {
          "base_uri": "https://localhost:8080/"
        },
        "id": "zKRgDHmjkOGQ",
        "outputId": "dcb7317d-20df-4ff1-a109-8082c9b10184"
      },
      "execution_count": null,
      "outputs": [
        {
          "output_type": "stream",
          "name": "stdout",
          "text": [
            "ders başarıyla oluşturuldu...\n"
          ]
        }
      ]
    },
    {
      "cell_type": "code",
      "source": [
        "dersbir.ders_ekle('bilgisayar programlama','Özer Çelik',4,12384648,'birinci dönem',80)"
      ],
      "metadata": {
        "colab": {
          "base_uri": "https://localhost:8080/"
        },
        "id": "MoYUYAFekjQe",
        "outputId": "c1d12425-b333-4752-fb18-b9edcf2caaf0"
      },
      "execution_count": null,
      "outputs": [
        {
          "output_type": "stream",
          "name": "stdout",
          "text": [
            "ders başarı ile eklendi...\n"
          ]
        }
      ]
    },
    {
      "cell_type": "code",
      "source": [
        "dersbir.ders_bilgileri()"
      ],
      "metadata": {
        "colab": {
          "base_uri": "https://localhost:8080/"
        },
        "id": "53po1P7olCUm",
        "outputId": "7ca51bb2-f641-4a52-c355-2e2cc3cc7c73"
      },
      "execution_count": null,
      "outputs": [
        {
          "output_type": "stream",
          "name": "stdout",
          "text": [
            "[['bilgisayar programlama', 'Özer Çelik', 4, 12384648, 'birinci dönem', 80]]\n"
          ]
        }
      ]
    },
    {
      "cell_type": "code",
      "source": [
        "dersbir.ogretim_uyesi_ekle('serhun','java')"
      ],
      "metadata": {
        "colab": {
          "base_uri": "https://localhost:8080/"
        },
        "id": "1etA_BvEldp8",
        "outputId": "bb97d426-6aa3-41b1-8713-464ec52a5aaa"
      },
      "execution_count": null,
      "outputs": [
        {
          "output_type": "stream",
          "name": "stdout",
          "text": [
            "öğretim görevlisi başarıyla eklendi...\n"
          ]
        }
      ]
    },
    {
      "cell_type": "code",
      "source": [
        "ogretimbir=Ogretim_gorevlileri()"
      ],
      "metadata": {
        "colab": {
          "base_uri": "https://localhost:8080/"
        },
        "id": "wFtA-_0OmFu9",
        "outputId": "c4dae92a-c8b4-40aa-f13b-4626c6b3a5dd"
      },
      "execution_count": null,
      "outputs": [
        {
          "output_type": "stream",
          "name": "stdout",
          "text": [
            "öğretim görevilisi kaydı başarıyla oluşturuldu...\n"
          ]
        }
      ]
    },
    {
      "cell_type": "code",
      "source": [
        "ogretimbir.ogretim_gorevlisi_ekle(5615,'özer','mat-bil','Mühendis')"
      ],
      "metadata": {
        "colab": {
          "base_uri": "https://localhost:8080/"
        },
        "id": "_EHjbzcCmV-E",
        "outputId": "4dae777e-9911-4468-9321-fac11c99103f"
      },
      "execution_count": null,
      "outputs": [
        {
          "output_type": "stream",
          "name": "stdout",
          "text": [
            "Bilgiler başarıyla kaydedildi...\n"
          ]
        }
      ]
    },
    {
      "cell_type": "code",
      "source": [
        "ogretimbir.ogrt_bilgi_goster()"
      ],
      "metadata": {
        "colab": {
          "base_uri": "https://localhost:8080/"
        },
        "id": "ycfoBQ34mu1Q",
        "outputId": "f67e4037-1e7b-4752-cb4e-68c74ef5bdf3"
      },
      "execution_count": null,
      "outputs": [
        {
          "output_type": "stream",
          "name": "stdout",
          "text": [
            "[[5615, 'özer', 'mat-bil', 'Mühendis']]\n"
          ]
        }
      ]
    },
    {
      "cell_type": "code",
      "source": [
        "class Araba():\n",
        "  def __init__(self,model,renk,beygir_gucu,silindir):\n",
        "     self.model = model\n",
        "     self.renk = renk\n",
        "     self.beygir_gucu = beygir_gucu\n",
        "     self.silindir = silindir\n",
        "  def bilgi_goster(self):\n",
        "    print(\"araç bilgileri \\n model:{0} \\n Renk:{1} \\n beygir gücü:{2} \\n silindir:{3}\".format(self.model,self.renk,self.beygir_gucu,self.silindir))"
      ],
      "metadata": {
        "id": "dgmx-zUxP_E2"
      },
      "execution_count": null,
      "outputs": []
    },
    {
      "cell_type": "code",
      "source": [
        "class Tesla(Araba):\n",
        "  def silindir_degistir(self,yenisilinidir):\n",
        "    self.silindir = yenisilinidir"
      ],
      "metadata": {
        "id": "ZQUPM6c4RoNn"
      },
      "execution_count": null,
      "outputs": []
    },
    {
      "cell_type": "code",
      "source": [
        "class Araba1():\n",
        "  def __init__(self,model,renk,beygir_gucu,silindir):\n",
        "     self.model = model\n",
        "     self.renk = renk\n",
        "     self.beygir_gucu = beygir_gucu\n",
        "     self.silindir = silindir\n",
        "  def bilgi_goster(self):\n",
        "    print(\"araç bilgileri \\n model:{0} \\n Renk:{1} \\n beygir gücü:{2} \\n silindir:{3}\".format(self.model,self.renk,self.beygir_gucu,self.silindir))"
      ],
      "metadata": {
        "id": "M2G6qAizRsTw"
      },
      "execution_count": null,
      "outputs": []
    },
    {
      "cell_type": "code",
      "source": [
        "class Tesla1(Araba1):\n",
        "  def __init__(self,model,renk,beygir_gucu,silindir,batarya_durumu):\n",
        "     self.model = model\n",
        "     self.renk = renk\n",
        "     self.beygir_gucu = beygir_gucu\n",
        "     self.silindir = silindir\n",
        "     self.batarya_durumu = batarya_durumu\n",
        "  def batarya_goster(self):\n",
        "    print(\"batarya: \",self.batarya_durumu)"
      ],
      "metadata": {
        "id": "raPY0rkOSEEy"
      },
      "execution_count": null,
      "outputs": []
    },
    {
      "cell_type": "code",
      "source": [
        "class hayvanlar():\n",
        "  def __init__(self,ad,renk,beslenme_turu):\n",
        "   self.ad= ad\n",
        "   self.renk= renk\n",
        "   self.belenme_turu =beslenme_turu\n",
        "   self.beslenme= False\n",
        "  def hayvani_besle(self):\n",
        "    self.beslenme= True\n",
        "  def bilgi_goster(self):\n",
        "    print(\"hayvanın adı:{0} \\n hayvanın rengi:{1} \\n beslenme:{2} \\n\".format(self.ad,self.renk,self.beslenme))\n",
        "class Kuslar(hayvanlar):\n",
        "   def __init__(self,ad,renk,gaga_boyu):\n",
        "    self.ad= ad\n",
        "    self.renk= renk\n",
        "    self.gaga_boyu= gaga_boyu\n",
        "    self.beslenme= False\n",
        "   def kus_uctu(self):\n",
        "     print(\"Kuş uçtu !!!\")"
      ],
      "metadata": {
        "id": "LsL_YM2NTaB4"
      },
      "execution_count": null,
      "outputs": []
    },
    {
      "cell_type": "code",
      "source": [
        "h1= hayvanlar(\"köpek\",\"siyah\")"
      ],
      "metadata": {
        "id": "NRlX_fyIUxpY"
      },
      "execution_count": null,
      "outputs": []
    },
    {
      "cell_type": "code",
      "source": [
        "k1 = Kuslar(\"serçe\",\"kahverengi\",\"2 cm\")"
      ],
      "metadata": {
        "id": "clTo3TpJVbBh"
      },
      "execution_count": null,
      "outputs": []
    },
    {
      "cell_type": "code",
      "source": [
        "hayvanlar.bilgi_goster(h1)"
      ],
      "metadata": {
        "colab": {
          "base_uri": "https://localhost:8080/"
        },
        "id": "ocfPhCp0VuWt",
        "outputId": "4f65971a-9ab9-400f-df18-88c0a1140d20"
      },
      "execution_count": null,
      "outputs": [
        {
          "output_type": "stream",
          "name": "stdout",
          "text": [
            "hayvanın adı:köpek \n",
            " hayvanın rengi:siyah \n",
            " beslenme:True \n",
            "\n"
          ]
        }
      ]
    },
    {
      "cell_type": "code",
      "source": [
        "hayvanlar.hayvani_besle(h1)"
      ],
      "metadata": {
        "id": "f5OS-DzWWoXu"
      },
      "execution_count": null,
      "outputs": []
    },
    {
      "cell_type": "code",
      "source": [
        "hayvanlar.bilgi_goster(k1)"
      ],
      "metadata": {
        "colab": {
          "base_uri": "https://localhost:8080/"
        },
        "id": "C3IhBe3PWI5X",
        "outputId": "636d7421-a155-44ac-86de-670a202cb79c"
      },
      "execution_count": null,
      "outputs": [
        {
          "output_type": "stream",
          "name": "stdout",
          "text": [
            "hayvanın adı:serçe \n",
            " hayvanın rengi:kahverengi \n",
            " beslenme:False \n",
            "\n"
          ]
        }
      ]
    },
    {
      "cell_type": "code",
      "source": [
        "class hayvanlar():\n",
        "  def __init__(self,ad,renk,beslenme_turu):\n",
        "   self.ad= ad\n",
        "   self.renk= renk\n",
        "   self.belenme_turu =beslenme_turu\n",
        "   self.beslenme= False\n",
        "  def hayvani_besle(self):\n",
        "    self.beslenme= True\n",
        "  def bilgi_goster(self):\n",
        "    print(\"hayvanın adı:{0} \\n hayvanın rengi:{1} \\n beslenme:{2} \\n\".format(self.ad,self.renk,self.beslenme))\n",
        "class Kuslar(hayvanlar):\n",
        "   def __init__(self,ad,renk,beslenme_turu,gaga_boyu):\n",
        "    super().__init__(ad,renk,beslenme_turu)\n",
        "    self.gaga_boyu= gaga_boyu\n",
        "    self.beslenme= False\n",
        "   def kus_uctu(self):\n",
        "     print(\"Kuş uçtu !!!\")"
      ],
      "metadata": {
        "id": "_sAcQ3DDZ-wx"
      },
      "execution_count": null,
      "outputs": []
    },
    {
      "cell_type": "code",
      "source": [
        "class Araclar():\n",
        "  def __init__(self,arac_adi,teker_sayisi,yakit_turu,motor_gucu):\n",
        "    self.arac_adi = arac_adi\n",
        "    self.teker_sayisi = teker_sayisi\n",
        "    self.yakit_turu = yakit_turu\n",
        "    self.motor_gucu = motor_gucu\n",
        "  def hizlan(self,hiz):\n",
        "    self.hiz= hiz\n",
        "    print(\"{0}'e hızlandı\".format(self.hiz))\n",
        "class otomobil(Araclar):\n",
        "  def __init__(self,arac_adi,teker_sayisi,yakit_turu,motor_gucu,bagaj_hacmi,km):\n",
        "    super().__init__(arac_adi,teker_sayisi,yakit_turu,motor_gucu)\n",
        "    self.bagaj_hacmi = bagaj_hacmi\n",
        "    self.km = km\n",
        "  def km_reset(self):\n",
        "    self.km = 0\n",
        "class ucaklar(Araclar):\n",
        "  def __init__(self,arac_adi,teker_sayisi,yakit_turu,motor_gucu,bagaj_hacmi,yolcu_sayisi,ucak_tipi):\n",
        "    super().__init__(arac_adi,teker_sayisi,yakit_turu,motor_gucu)\n",
        "    self.yolcu_sayisi = yolcu_sayisi\n",
        "    self.ucak_tipi = ucak_tipi\n",
        "  def yolcu_goster(self):\n",
        "    print(\"yolcu sayısı:\",self.yolcu_sayisi)\n",
        "\n"
      ],
      "metadata": {
        "id": "RT2spOapbsLw"
      },
      "execution_count": null,
      "outputs": []
    },
    {
      "cell_type": "code",
      "source": [
        "u1 = ucaklar(\"airbus\",\"üç\",\"ucak yakıtı\",\"5000\",\"50000 l\",\"5000\",\"yolcu uçağı\")"
      ],
      "metadata": {
        "id": "QwcTskXPetGf"
      },
      "execution_count": null,
      "outputs": []
    },
    {
      "cell_type": "code",
      "source": [
        "ucaklar.yolcu_goster(u1)"
      ],
      "metadata": {
        "colab": {
          "base_uri": "https://localhost:8080/"
        },
        "id": "aoAAUM02gTtF",
        "outputId": "f398dde1-af99-48bf-c61b-a3fb146b6999"
      },
      "execution_count": null,
      "outputs": [
        {
          "output_type": "stream",
          "name": "stdout",
          "text": [
            "yolcu sayısı: 5000\n"
          ]
        }
      ]
    },
    {
      "cell_type": "code",
      "source": [
        "#personel adında bir sınıf tanımlayın , ismi,kod,cinsiyeti,girişyılı,yaşı,memleketi,özellikleri bulunsun\n",
        "#mesai ekle adında fonksiyonu olsun saat olarak mesai eklensin\n",
        "#yönetici adında personel sınıfını miras alan bir sınıf tanımlayın,\n",
        "#yönetici olduğu bölüm,özel aracının olup olmadığına dair özellik bulunsun,ayrıca\n",
        "#bölüm değiştir fonksiyonu olsun\n",
        "#çalışan adında personel sınıfından miras alan bir sınıf tanımlayın, iş türü ve vardiye özellikleri bulunsun\n",
        "#ayrıca vardiye değiştir fonksiyonu olsun"
      ],
      "metadata": {
        "id": "ENa2w74TiBWX"
      },
      "execution_count": null,
      "outputs": []
    },
    {
      "cell_type": "code",
      "source": [
        "class personel():\n",
        "  def __init__(self,isim,kod,cinsiyet,girisyili,yasi,memleketi):\n",
        "    self.isim = isim\n",
        "    self.kod = kod\n",
        "    self.cinsiyet = cinsiyet\n",
        "    self.girisyili = girisyili\n",
        "    self.yasi = yasi\n",
        "    self.memleketi = memleketi\n",
        "  def mesai_ekle(self,mesai):\n",
        "    self.mesai=mesai\n",
        "class yonetici(personel):\n",
        "  def __init__ (self,isim,kod,cinsiyet,girisyili,yasi,memleketi,bolum,ozel_arac):\n",
        "    super().__init__(isim,kod,cinsiyet,girisyili,yasi,memleketi)\n",
        "    self.bolum = bolum\n",
        "    self.ozel_arac = ozel_arac\n",
        "  def bolum_degistir(self,yenibolum):\n",
        "    self.bolum=yenibolum\n",
        "class calisan(personel):\n",
        "  def __init__(self,isim,kod,cinsiyet,girisyili,yasi,memleketi,is_turu,vardiye):\n",
        "    super().__init__(isim,kod,cinsiyet,girisyili,yasi,memleketi)\n",
        "    self.is_turu = is_turu\n",
        "    self.vardiye = vardiye\n",
        "  def vardiye_degis(self,yeni_vardiye):\n",
        "    self.vardiye = yeni_vardiye"
      ],
      "metadata": {
        "id": "-xOiV4vajABt"
      },
      "execution_count": null,
      "outputs": []
    },
    {
      "cell_type": "markdown",
      "source": [],
      "metadata": {
        "id": "VwqJrG6IRxKi"
      }
    },
    {
      "cell_type": "code",
      "source": [
        "class kisiler():\n",
        "  calisan_list = []\n",
        "  musteri_list = []\n",
        "  def __init__(self,ad_soyad,tc,email):\n",
        "    self.ad_soyad = ad_soyad\n",
        "    self.tc = tc\n",
        "    self.email = email\n",
        "  @classmethod\n",
        "  def musteri_goster(cls):\n",
        "    for i in cls.musteri_list:\n",
        "      print(i.ad_soyad,i.tc)\n",
        "  @classmethod\n",
        "  def musteri_bul(cls,tc):\n",
        "    for i in cls.musteri_list:\n",
        "      if tc == i.tc:\n",
        "        print(i.ad_soyad,i.tc)\n",
        "  @classmethod\n",
        "  def kisi_ekle(cls,kisi,tur):\n",
        "      if tur ==1:\n",
        "        cls.calisan_list.append(kisi)\n",
        "      else:\n",
        "        cls.musteri_list.append(kisi)\n",
        "class Calisanlar(kisiler):\n",
        "  def __init__(self,ad_soyad,tc,email,kurumkodu,gyili,maas):\n",
        "    super().__init__(ad_soyad,tc,email)\n",
        "    self.kurumkodu= kurumkodu\n",
        "    self.gyili = gyili\n",
        "    self.maas = maas\n",
        "class Musteriler(kisiler):\n",
        "  def __init__(self,ad_soyad,tc,email,mno,durum=True):\n",
        "    super().__init__(ad_soyad,tc,email)\n",
        "    self.mno = mno\n",
        "    self.durum = durum\n",
        "  def durumdegistir(self,durum):\n",
        "    self.durum=durum"
      ],
      "metadata": {
        "id": "i9u83ySvQ0jJ"
      },
      "execution_count": null,
      "outputs": []
    },
    {
      "cell_type": "code",
      "source": [],
      "metadata": {
        "id": "4T8he6JAOdJt"
      },
      "execution_count": null,
      "outputs": []
    },
    {
      "cell_type": "code",
      "source": [
        "veli =Musteriler(\"veli abc\",\"1231153\",\"veli@asdasd.com\",123)"
      ],
      "metadata": {
        "id": "NFdbMytXYHWs"
      },
      "execution_count": null,
      "outputs": []
    },
    {
      "cell_type": "code",
      "source": [
        "gökay = Calisanlar(\"gökay kavsa\",\"21231355\",\"gokay@abc.com\",1546,2015,6000)"
      ],
      "metadata": {
        "id": "vRwNdi21gjR0"
      },
      "execution_count": null,
      "outputs": []
    },
    {
      "cell_type": "code",
      "source": [
        "kisiler.kisi_ekle(veli,2)"
      ],
      "metadata": {
        "id": "7hN3tB89g1rq"
      },
      "execution_count": null,
      "outputs": []
    },
    {
      "cell_type": "code",
      "source": [
        "kisiler.kisi_ekle(gökay,1)"
      ],
      "metadata": {
        "id": "4YpKiz-Qg7yS"
      },
      "execution_count": null,
      "outputs": []
    },
    {
      "cell_type": "code",
      "source": [
        "kisiler.musteri_list[0].durumdegistir(False)"
      ],
      "metadata": {
        "id": "64-eFQ0yhAz1"
      },
      "execution_count": null,
      "outputs": []
    },
    {
      "cell_type": "code",
      "source": [
        "kisiler.musteri_list[0].durum"
      ],
      "metadata": {
        "colab": {
          "base_uri": "https://localhost:8080/"
        },
        "id": "f_s9QpbliGnF",
        "outputId": "6dd5e95d-98b5-487e-c766-09fbe2117ba1"
      },
      "execution_count": null,
      "outputs": [
        {
          "output_type": "execute_result",
          "data": {
            "text/plain": [
              "False"
            ]
          },
          "metadata": {},
          "execution_count": 225
        }
      ]
    },
    {
      "cell_type": "code",
      "source": [
        "kisiler.musteri_goster()"
      ],
      "metadata": {
        "colab": {
          "base_uri": "https://localhost:8080/"
        },
        "id": "EDlmYdbRjQKO",
        "outputId": "9231b8b9-6102-4dda-84fa-fed6c91c4422"
      },
      "execution_count": null,
      "outputs": [
        {
          "output_type": "stream",
          "name": "stdout",
          "text": [
            "veli can aydın 1231153\n"
          ]
        }
      ]
    },
    {
      "cell_type": "code",
      "source": [
        "kisiler.musteri_bul(\"1231153\")"
      ],
      "metadata": {
        "colab": {
          "base_uri": "https://localhost:8080/"
        },
        "id": "i5FqpoV2jt-S",
        "outputId": "0937fd50-db67-40d2-f59a-cfc0135d32e3"
      },
      "execution_count": null,
      "outputs": [
        {
          "output_type": "stream",
          "name": "stdout",
          "text": [
            "veli can aydın 1231153\n"
          ]
        }
      ]
    },
    {
      "cell_type": "code",
      "source": [
        "veli.ad_soyad"
      ],
      "metadata": {
        "colab": {
          "base_uri": "https://localhost:8080/",
          "height": 36
        },
        "id": "9mjKmVXEwt-N",
        "outputId": "582ab6d3-589c-47a8-dbca-ac78455dc366"
      },
      "execution_count": null,
      "outputs": [
        {
          "output_type": "execute_result",
          "data": {
            "text/plain": [
              "'veli can aydın'"
            ],
            "application/vnd.google.colaboratory.intrinsic+json": {
              "type": "string"
            }
          },
          "metadata": {},
          "execution_count": 228
        }
      ]
    },
    {
      "cell_type": "code",
      "source": [
        "class ucak():\n",
        "  ucak_durum_list = []\n",
        "  u1 = []\n",
        "  ucus_bilgileri=[]\n",
        "  ucus_yolculari =[]\n",
        "  yolcu_mili = []\n",
        "\n",
        "  def __init__(self,ucak_adi,ucak_kodu,ucak_turu,uretim_yili,yolcu_kapasitesi,ucak_bakim = None):\n",
        "    self.ucak_adi = ucak_adi\n",
        "    self.ucak_kodu = ucak_kodu\n",
        "    self.ucak_turu = ucak_turu\n",
        "    self.uretim_yili = uretim_yili\n",
        "    self.yolcu_kapasitesi = yolcu_kapasitesi\n",
        "\n",
        "  def ucak_bakim_tanimla(self,ucak_bakim_yeni):\n",
        "    self.ucak_bakim = ucak_bakim_yeni\n",
        "    self.ucak_durum_list.append(self.ucak_bakim)\n",
        "\n",
        "  @classmethod\n",
        "  def ucak_bakim_durum(cls):\n",
        "    print(cls.ucak_durum_list)\n",
        "\n",
        "  @classmethod\n",
        "  def ucus_ucagi_ekle(cls,ucak_adi):\n",
        "      cls.ucus_bilgileri.append(ucak_adi)\n",
        "\n",
        "  @classmethod\n",
        "  def ucus_bilgileri_goster(cls,ucus_adi):\n",
        "    for i in cls.ucus_bilgileri:\n",
        "      if ucus_adi == i.ucus_adi:\n",
        "        print(i.ucus_adi,i.ucus_kodu,i.ucus_tarihi,i.kalkis_yeri,i.inis_yeri)\n",
        "\n",
        "  @classmethod\n",
        "  def ucusa_yolcu_ekle(cls,yolcu_adi):\n",
        "    cls.ucus_yolculari.append(yolcu_adi)\n",
        "\n",
        "class Yolcu():\n",
        "  yolcu = []\n",
        "  yolcu_bilgi_list = []\n",
        "  def __init__(self,ad_soyad,yolcu_tc,yolcu_yasi,mil = 0):\n",
        "    self.ad_soyad= ad_soyad\n",
        "    self.yolcu_tc = yolcu_tc\n",
        "    self.yolcu_yasi = yolcu_yasi\n",
        "    self.yolcu_bilgi_list.append(ad_soyad)\n",
        "    self.yolcu_bilgi_list.append(yolcu_tc)\n",
        "    self.yolcu_bilgi_list.append(yolcu_yasi)\n",
        "    self.yolcu.append(self.yolcu_bilgi_list)\n",
        "\n",
        "  def yolcu_bilgisi(self):\n",
        "    print(self.yolcu_bilgi)\n",
        "\n",
        "  def mil_ekle(self,bilet_tutari):\n",
        "    self.mil = bilet_tutari*(10/100)\n",
        "\n",
        "  def mil_goster(self):\n",
        "    print(self.yolcu_mili)\n",
        "\n",
        "class ucus(ucak,Yolcu):\n",
        "  def __init__(self,ucus_adi,ucus_kodu,ucus_tarihi,kalkis_yeri,inis_yeri):\n",
        "    self.ucus_adi = ucus_adi\n",
        "    self.ucus_kodu = ucus_kodu\n",
        "    self.ucus_tarihi = ucus_tarihi\n",
        "    self.kalkis_yeri = kalkis_yeri\n",
        "    self.inis_yeri = inis_yeri\n",
        "    self.ucus_bilgileri=[]\n",
        "    self.ucus_bilgileri.append([ucus_adi,ucus_kodu,ucus_tarihi,kalkis_yeri,inis_yeri])\n",
        "\n",
        "  @classmethod\n",
        "  def yolculari_goster(cls):\n",
        "    for i in cls.ucus_yolculari:\n",
        "      for j in cls.yolcu_bilgi_list:\n",
        "        if i.ad_soyad == j:\n",
        "          print(i.ad_soyad,i.yolcu_tc,i.yolcu_yasi)\n",
        "        else:\n",
        "          None"
      ],
      "metadata": {
        "id": "u59riTPGlPWX"
      },
      "execution_count": null,
      "outputs": []
    },
    {
      "cell_type": "code",
      "source": [
        "tk23 =  ucus(\"istanbulsamsun\",\"553410\",\"10-02-2023\",\"istanbul\",\"samsun\")"
      ],
      "metadata": {
        "id": "qwUzK8i5UHhC"
      },
      "execution_count": null,
      "outputs": []
    },
    {
      "cell_type": "code",
      "source": [
        "u1 = ucak(\"boeing\",\"5534502\",\"yolcu\",2019,5000)"
      ],
      "metadata": {
        "id": "AgTTagPDelL3"
      },
      "execution_count": null,
      "outputs": []
    },
    {
      "cell_type": "code",
      "source": [
        "y1 = Yolcu(\"serhun karadeniz\",154674545,20)\n",
        "y2 = Yolcu(\"hasancan yılmaz\",15115451542,21)"
      ],
      "metadata": {
        "id": "XiMdTUGYe3Me",
        "colab": {
          "base_uri": "https://localhost:8080/",
          "height": 158
        },
        "outputId": "d7281529-eded-4ad0-f501-78fa728ec91e"
      },
      "execution_count": 2,
      "outputs": [
        {
          "output_type": "error",
          "ename": "NameError",
          "evalue": "name 'Yolcu' is not defined",
          "traceback": [
            "\u001b[0;31m---------------------------------------------------------------------------\u001b[0m",
            "\u001b[0;31mNameError\u001b[0m                                 Traceback (most recent call last)",
            "\u001b[0;32m<ipython-input-2-cd7d49205c0c>\u001b[0m in \u001b[0;36m<cell line: 1>\u001b[0;34m()\u001b[0m\n\u001b[0;32m----> 1\u001b[0;31m \u001b[0my1\u001b[0m \u001b[0;34m=\u001b[0m \u001b[0mYolcu\u001b[0m\u001b[0;34m(\u001b[0m\u001b[0;34m\"serhun karadeniz\"\u001b[0m\u001b[0;34m,\u001b[0m\u001b[0;36m154674545\u001b[0m\u001b[0;34m,\u001b[0m\u001b[0;36m20\u001b[0m\u001b[0;34m)\u001b[0m\u001b[0;34m\u001b[0m\u001b[0;34m\u001b[0m\u001b[0m\n\u001b[0m\u001b[1;32m      2\u001b[0m \u001b[0my2\u001b[0m \u001b[0;34m=\u001b[0m \u001b[0mYolcu\u001b[0m\u001b[0;34m(\u001b[0m\u001b[0;34m\"hasancan yılmaz\"\u001b[0m\u001b[0;34m,\u001b[0m\u001b[0;36m15115451542\u001b[0m\u001b[0;34m,\u001b[0m\u001b[0;36m21\u001b[0m\u001b[0;34m)\u001b[0m\u001b[0;34m\u001b[0m\u001b[0;34m\u001b[0m\u001b[0m\n",
            "\u001b[0;31mNameError\u001b[0m: name 'Yolcu' is not defined"
          ]
        }
      ]
    },
    {
      "cell_type": "code",
      "source": [
        "ucak.ucus_ucagi_ekle(\"boeing\")"
      ],
      "metadata": {
        "id": "uC4pMHn0k_f_"
      },
      "execution_count": null,
      "outputs": []
    },
    {
      "cell_type": "code",
      "source": [
        "ucak.ucusa_yolcu_ekle(y1)\n",
        "ucak.ucusa_yolcu_ekle(y2)"
      ],
      "metadata": {
        "id": "YPSL8KDylSXB"
      },
      "execution_count": null,
      "outputs": []
    },
    {
      "cell_type": "code",
      "source": [
        "ucus.yolculari_goster()"
      ],
      "metadata": {
        "id": "7MrOlADGldUr"
      },
      "execution_count": null,
      "outputs": []
    },
    {
      "cell_type": "code",
      "source": [
        "tk23.ucus_bilgileri"
      ],
      "metadata": {
        "colab": {
          "base_uri": "https://localhost:8080/"
        },
        "id": "byVXTuqfYLsG",
        "outputId": "2fc3268c-76dc-43de-81bf-96814c59cde5"
      },
      "execution_count": null,
      "outputs": [
        {
          "output_type": "execute_result",
          "data": {
            "text/plain": [
              "[['istanbulsamsun', '553410', '10-02-2023', 'istanbul', 'samsun']]"
            ]
          },
          "metadata": {},
          "execution_count": 173
        }
      ]
    }
  ]
}