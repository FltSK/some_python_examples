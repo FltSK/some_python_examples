{
  "nbformat": 4,
  "nbformat_minor": 0,
  "metadata": {
    "colab": {
      "provenance": []
    },
    "kernelspec": {
      "name": "python3",
      "display_name": "Python 3"
    },
    "language_info": {
      "name": "python"
    }
  },
  "cells": [
    {
      "cell_type": "code",
      "source": [
        "class Kullanici():\n",
        "  ogrenci=[]\n",
        "  def __init__(self,isim_soyisim):\n",
        "    self.isim_soyisim = isim_soyisim\n",
        "    self.ogrenci_bilgi= []\n",
        "    self.dersler = []\n",
        "    print(\"Öğrenci başarıyla oluşturuldu...\")\n",
        "  def ogrenci_ekle(self,no,isim_soyisim,bolum,donem,ort,girisyili,aldigi_dersler):\n",
        "    self.ogrenci_bilgi.append([no,isim_soyisim,bolum,donem,ort,girisyili,aldigi_dersler])\n",
        "    self.dersler.append(aldigi_dersler)\n",
        "  def ders_ekle(self,ek_ders):\n",
        "    self.dersler.append(ek_ders)\n",
        "  def Bilgileri_goster(self):\n",
        "    print(self.ogrenci_bilgi)\n",
        "class Dersler(Kullanici):\n",
        "  dersi_olan_ogretim_gorevlileri=[]\n",
        "  def __init__(self):\n",
        "    print('ders başarıyla oluşturuldu...')\n",
        "    self.derslero = []\n",
        "  def ders_ekle(self,dersek,ogretim_gorevlisi,kredisi,kodu,donem,kontenjani):\n",
        "    self.derslero.append([dersek,ogretim_gorevlisi,kredisi,kodu,donem,kontenjani])\n",
        "    self.dersi_olan_ogretim_gorevlileri.append(ogretim_gorevlisi)\n",
        "    print('ders başarı ile eklendi...')\n",
        "  @classmethod\n",
        "  def ogretim_uyesi_ekle(cls,ismi,dersleri):\n",
        "    cls.dersi_olan_ogretim_gorevlileri.append([ismi,dersleri])\n",
        "    print('öğretim görevlisi başarıyla eklendi...')\n",
        "  def ders_bilgileri(self):\n",
        "    print(self.derslero)\n",
        "class Ogretim_gorevlileri(Kullanici):\n",
        "  ogretim_gorevlileri=[]\n",
        "  def __init__(self):\n",
        "    print('öğretim görevilisi kaydı başarıyla oluşturuldu...')\n",
        "    self.ogrt_bilgi=[]\n",
        "  @classmethod\n",
        "  def ogrt_bilgi_goster(self):\n",
        "    print(self.ogretim_gorevlileri)\n",
        "  @classmethod\n",
        "  def ogretim_gorevlisi_ekle(cls,sicil_no,isim,bolum,unvan):\n",
        "      cls.ogretim_gorevlileri.append([sicil_no,isim,bolum,unvan])\n",
        "      print('Bilgiler başarıyla kaydedildi...')\n"
      ],
      "metadata": {
        "id": "9kxB2Of6fUsx"
      },
      "execution_count": 1,
      "outputs": []
    },
    {
      "cell_type": "code",
      "source": [
        "birinci=Kullanici('ahmet abc')"
      ],
      "metadata": {
        "colab": {
          "base_uri": "https://localhost:8080/"
        },
        "id": "IeiRKgrQi9M2",
        "outputId": "0e5c550b-afe2-4221-bb0c-e3d345703747"
      },
      "execution_count": 2,
      "outputs": [
        {
          "output_type": "stream",
          "name": "stdout",
          "text": [
            "Öğrenci başarıyla oluşturuldu...\n"
          ]
        }
      ]
    },
    {
      "cell_type": "code",
      "source": [
        "birinci.ogrenci_ekle(125451651,'ahmet abc','mat-bil','birinci dönem',2.28,2021,'bilgisayar programlama,tbt,analiz')"
      ],
      "metadata": {
        "id": "6eKucWy-jHRf"
      },
      "execution_count": 3,
      "outputs": []
    },
    {
      "cell_type": "code",
      "source": [
        "birinci.Bilgileri_goster()"
      ],
      "metadata": {
        "colab": {
          "base_uri": "https://localhost:8080/"
        },
        "id": "ZMSs7ePGjnhr",
        "outputId": "153d61c4-a3b4-4808-9685-b0a563407224"
      },
      "execution_count": 4,
      "outputs": [
        {
          "output_type": "stream",
          "name": "stdout",
          "text": [
            "[[125451651, 'ahmet abc', 'mat-bil', 'birinci dönem', 2.28, 2021, 'bilgisayar programlama,tbt,analiz']]\n"
          ]
        }
      ]
    },
    {
      "cell_type": "code",
      "source": [
        "birinci.ders_ekle('türkdili,ingilizce,sağlıklı beslenme ')"
      ],
      "metadata": {
        "id": "v3MLSD41j93W"
      },
      "execution_count": 5,
      "outputs": []
    },
    {
      "cell_type": "code",
      "source": [
        "birinci.dersler"
      ],
      "metadata": {
        "colab": {
          "base_uri": "https://localhost:8080/"
        },
        "id": "wkiPX7uPkIqh",
        "outputId": "3934e515-557a-43c8-9a19-8f58f052515e"
      },
      "execution_count": 6,
      "outputs": [
        {
          "output_type": "execute_result",
          "data": {
            "text/plain": [
              "['bilgisayar programlama,tbt,analiz', 'türkdili,ingilizce,sağlıklı beslenme ']"
            ]
          },
          "metadata": {},
          "execution_count": 6
        }
      ]
    },
    {
      "cell_type": "code",
      "source": [
        "dersbir=Dersler()"
      ],
      "metadata": {
        "colab": {
          "base_uri": "https://localhost:8080/"
        },
        "id": "zKRgDHmjkOGQ",
        "outputId": "35fb4563-90e8-4a6c-c0d8-8fd897b07d14"
      },
      "execution_count": 7,
      "outputs": [
        {
          "output_type": "stream",
          "name": "stdout",
          "text": [
            "ders başarıyla oluşturuldu...\n"
          ]
        }
      ]
    },
    {
      "cell_type": "code",
      "source": [
        "dersbir.ders_ekle('bilgisayar programlama','Özer Çelik',4,12384648,'birinci dönem',80)"
      ],
      "metadata": {
        "colab": {
          "base_uri": "https://localhost:8080/"
        },
        "id": "MoYUYAFekjQe",
        "outputId": "c909544e-12fc-4e0e-b1ba-f285d414dccf"
      },
      "execution_count": 8,
      "outputs": [
        {
          "output_type": "stream",
          "name": "stdout",
          "text": [
            "ders başarı ile eklendi...\n"
          ]
        }
      ]
    },
    {
      "cell_type": "code",
      "source": [
        "dersbir.ders_bilgileri()"
      ],
      "metadata": {
        "colab": {
          "base_uri": "https://localhost:8080/"
        },
        "id": "53po1P7olCUm",
        "outputId": "cd86aec4-a294-4575-d622-8b4e964367c6"
      },
      "execution_count": 9,
      "outputs": [
        {
          "output_type": "stream",
          "name": "stdout",
          "text": [
            "[['bilgisayar programlama', 'Özer Çelik', 4, 12384648, 'birinci dönem', 80]]\n"
          ]
        }
      ]
    },
    {
      "cell_type": "code",
      "source": [
        "dersbir.ogretim_uyesi_ekle('serhun','java')"
      ],
      "metadata": {
        "colab": {
          "base_uri": "https://localhost:8080/"
        },
        "id": "1etA_BvEldp8",
        "outputId": "ca324eaa-de4d-4b6f-9a21-22657ead1a28"
      },
      "execution_count": 10,
      "outputs": [
        {
          "output_type": "stream",
          "name": "stdout",
          "text": [
            "öğretim görevlisi başarıyla eklendi...\n"
          ]
        }
      ]
    },
    {
      "cell_type": "code",
      "source": [
        "ogretimbir=Ogretim_gorevlileri()"
      ],
      "metadata": {
        "colab": {
          "base_uri": "https://localhost:8080/"
        },
        "id": "wFtA-_0OmFu9",
        "outputId": "8855e8ac-455e-4138-f67c-cc3770e85a57"
      },
      "execution_count": 11,
      "outputs": [
        {
          "output_type": "stream",
          "name": "stdout",
          "text": [
            "öğretim görevilisi kaydı başarıyla oluşturuldu...\n"
          ]
        }
      ]
    },
    {
      "cell_type": "code",
      "source": [
        "ogretimbir.ogretim_gorevlisi_ekle(5615,'özer','mat-bil','Mühendis')"
      ],
      "metadata": {
        "colab": {
          "base_uri": "https://localhost:8080/"
        },
        "id": "_EHjbzcCmV-E",
        "outputId": "69dda110-0280-4051-faad-51afc36adb19"
      },
      "execution_count": 12,
      "outputs": [
        {
          "output_type": "stream",
          "name": "stdout",
          "text": [
            "Bilgiler başarıyla kaydedildi...\n"
          ]
        }
      ]
    },
    {
      "cell_type": "code",
      "source": [
        "ogretimbir.ogrt_bilgi_goster()"
      ],
      "metadata": {
        "colab": {
          "base_uri": "https://localhost:8080/"
        },
        "id": "ycfoBQ34mu1Q",
        "outputId": "8bb839d7-08ff-4787-f65d-da7e210fc50d"
      },
      "execution_count": 13,
      "outputs": [
        {
          "output_type": "stream",
          "name": "stdout",
          "text": [
            "[[5615, 'özer', 'mat-bil', 'Mühendis']]\n"
          ]
        }
      ]
    }
  ]
}