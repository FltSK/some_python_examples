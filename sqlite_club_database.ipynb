{
  "nbformat": 4,
  "nbformat_minor": 0,
  "metadata": {
    "colab": {
      "provenance": []
    },
    "kernelspec": {
      "name": "python3",
      "display_name": "Python 3"
    },
    "language_info": {
      "name": "python"
    }
  },
  "cells": [
    {
      "cell_type": "code",
      "source": [
        "from google.colab import drive\n",
        "drive.mount('/content/drive')"
      ],
      "metadata": {
        "colab": {
          "base_uri": "https://localhost:8080/"
        },
        "id": "p-RPeM4P76cx",
        "outputId": "3af5d36f-9a5b-40c3-f4a6-36139e2eefc0"
      },
      "execution_count": null,
      "outputs": [
        {
          "output_type": "stream",
          "name": "stdout",
          "text": [
            "Mounted at /content/drive\n"
          ]
        }
      ]
    },
    {
      "cell_type": "code",
      "source": [
        "%cd /content/drive/MyDrive/Colab\\ Notebooks"
      ],
      "metadata": {
        "colab": {
          "base_uri": "https://localhost:8080/"
        },
        "id": "295kvIwY77Vk",
        "outputId": "7fe0a7bf-9d61-4cdc-94e7-6c48fb03c6de"
      },
      "execution_count": null,
      "outputs": [
        {
          "output_type": "stream",
          "name": "stdout",
          "text": [
            "/content/drive/MyDrive/Colab Notebooks\n"
          ]
        }
      ]
    },
    {
      "cell_type": "code",
      "source": [
        "#import sqlite3\n",
        "#con=sqlite3.connect('kulup.db')\n",
        "#cursor = con.cursor()\n",
        "\n",
        "#cursor.execute('DROP TABLE KULUP')\n",
        "\n",
        "#con.commit()\n",
        "\n",
        "#con.close()"
      ],
      "metadata": {
        "id": "8zR66Qq2Hg0i"
      },
      "execution_count": null,
      "outputs": []
    },
    {
      "cell_type": "code",
      "execution_count": null,
      "metadata": {
        "colab": {
          "base_uri": "https://localhost:8080/"
        },
        "id": "fPPyhtpa7eYu",
        "outputId": "238d99e5-8c56-4d9b-9cc7-e44fcc838659"
      },
      "outputs": [
        {
          "name": "stdout",
          "output_type": "stream",
          "text": [
            "uye_no Giriniz: 1\n",
            "isim Giriniz: ali\n",
            "telefon no Giriniz: 5552224422\n",
            "cinsiyet Giriniz: erkek\n",
            "kaçıncı sınıf olduğunu giriniz: 1\n",
            "çıkış yapmak istiyor musunuz? E/H: \n",
            "uye_no Giriniz: 2\n",
            "isim Giriniz: ayşe\n",
            "telefon no Giriniz: 555222333111\n",
            "cinsiyet Giriniz: kadın\n",
            "kaçıncı sınıf olduğunu giriniz: 2\n",
            "çıkış yapmak istiyor musunuz? E/H: E\n",
            "id giriniz: 1\n",
            "uye_no giriniz: 1\n",
            "fatura bedelini giriniz: 100\n",
            "tarihi giriniz: 17.05.2021\n",
            "çıkış yapmak istiyor musunuz? E/H: H\n",
            "id giriniz: 2\n",
            "uye_no giriniz: 1\n",
            "fatura bedelini giriniz: 100\n",
            "tarihi giriniz: 17.05.2020\n",
            "çıkış yapmak istiyor musunuz? E/H: E\n",
            "id giriniz: 1\n",
            "isim giriniz: ömer\n",
            "kişinin görevini giriniz: BAşkan\n",
            "telefon no giriniz: 2323\n",
            "çıkış yapmak istiyor musunuz? E/H: H\n",
            "id giriniz: 2\n",
            "isim giriniz: merve\n",
            "kişinin görevini giriniz: başkan yrd.\n",
            "telefon no giriniz: 3232\n",
            "çıkış yapmak istiyor musunuz? E/H: H\n",
            "id giriniz: 3\n",
            "isim giriniz: kerem\n",
            "kişinin görevini giriniz: Yk üyesi\n",
            "telefon no giriniz: 1111\n",
            "çıkış yapmak istiyor musunuz? E/H: E\n"
          ]
        }
      ],
      "source": [
        "import sqlite3\n",
        "\n",
        "con = sqlite3.connect('kulup.db')\n",
        "\n",
        "cursor = con.cursor()\n",
        "\n",
        "cursor.execute('CREATE TABLE IF NOT EXISTS uye (uye_no INT, uye_isim TEXT, telefon_no INT, cinsiyet TEXT,sınıfı INT)')\n",
        "while True:\n",
        "  uye_no=int(input('uye_no Giriniz: '))\n",
        "  uye_isim=(input('isim Giriniz: '))\n",
        "  telefon_no=int(input('telefon no Giriniz: '))\n",
        "  cinsiyet=(input('cinsiyet Giriniz: '))\n",
        "  sınıfı = int(input('kaçıncı sınıf olduğunu giriniz: '))\n",
        "  cursor.execute(\"Insert into  uye Values(?,?,?,?,?)\",(uye_no,uye_isim,telefon_no,cinsiyet,sınıfı))\n",
        "  cikis = input('çıkış yapmak istiyor musunuz? E/H: ')\n",
        "  if (cikis == 'E'):\n",
        "    break\n",
        "  elif (cikis == 'H'):\n",
        "    continue\n",
        "\n",
        "\n",
        "\n",
        "cursor.execute('CREATE TABLE IF NOT EXISTS aidat (id INT,uye_no INT, tutar INT, tarih TEXT)')\n",
        "while True:\n",
        "  id = int(input('id giriniz: '))\n",
        "  uye_no = int(input('uye_no giriniz: '))\n",
        "  tutar = int(input('fatura bedelini giriniz: '))\n",
        "  tarih = input('tarihi giriniz: ')\n",
        "  cursor.execute(\"Insert into aidat values(?,?,?,?)\",(id,uye_no,tutar,tarih))\n",
        "  cikis = input('çıkış yapmak istiyor musunuz? E/H: ')\n",
        "  if (cikis == 'E'):\n",
        "    break\n",
        "  elif (cikis == 'H'):\n",
        "    continue\n",
        "\n",
        "\n",
        "cursor.execute('CREATE TABLE IF NOT EXISTS yonetim (id INT,isim TEXT, gorevi TEXT, telefon_no INT)')\n",
        "while True:\n",
        "  id = int(input('id giriniz: '))\n",
        "  isim = input('isim giriniz: ')\n",
        "  gorevi = input('kişinin görevini giriniz: ')\n",
        "  telefon_no = int(input('telefon no giriniz: '))\n",
        "  cursor.execute(\"Insert into yonetim values(?,?,?,?)\",(id,isim,gorevi,telefon_no))\n",
        "  cikis = input('çıkış yapmak istiyor musunuz? E/H: ')\n",
        "  if (cikis == 'E'):\n",
        "    break\n",
        "  elif (cikis == 'H'):\n",
        "    continue\n",
        "\n",
        "\n",
        "\n",
        "con.commit()\n",
        "\n",
        "\n",
        "\n",
        "\n",
        "con.close()"
      ]
    },
    {
      "cell_type": "code",
      "source": [
        "import sqlite3\n",
        "con = sqlite3.connect('kulup.db')\n",
        "cursor = con.cursor()\n",
        "\n",
        "\n",
        "cursor.execute(\"Update yonetim set telefon_no= ? where id = ?\",(2121,1))\n",
        "con.commit()\n",
        "\n",
        "con.close()"
      ],
      "metadata": {
        "id": "O-8CtAg99GmQ"
      },
      "execution_count": null,
      "outputs": []
    },
    {
      "cell_type": "code",
      "source": [
        "import sqlite3\n",
        "con = sqlite3.connect('kulup.db')\n",
        "cursor = con.cursor()\n",
        "\n",
        "\n",
        "cursor.execute(\"Update uye set uye_isim= ? where uye_no = ?\",('ayşe nur',2))\n",
        "con.commit()\n",
        "\n",
        "con.close()"
      ],
      "metadata": {
        "id": "wMRIZxNpF2EM"
      },
      "execution_count": null,
      "outputs": []
    },
    {
      "cell_type": "code",
      "source": [
        "import sqlite3\n",
        "con = sqlite3.connect('kulup.db')\n",
        "cursor= con.cursor()\n",
        "\n",
        "\n",
        "for i in cursor.execute('SELECT uye_no FROM uye'):\n",
        "  for a in cursor.execute('SELECT uye_no FROM uye'):\n",
        "    if i>a:\n",
        "      print(i)\n",
        "    elif a>i:\n",
        "      print('üye sayısı: ',a)"
      ],
      "metadata": {
        "colab": {
          "base_uri": "https://localhost:8080/"
        },
        "id": "ungYHhffIncn",
        "outputId": "d858a81f-92d8-40ec-a2a8-80d4a4d40159"
      },
      "execution_count": null,
      "outputs": [
        {
          "output_type": "stream",
          "name": "stdout",
          "text": [
            "üye sayısı:  (2,)\n"
          ]
        }
      ]
    },
    {
      "cell_type": "code",
      "source": [
        "import sqlite3\n",
        "con = sqlite3.connect('kulup.db')\n",
        "cursor= con.cursor()\n",
        "\n",
        "for i  in cursor.execute('SELECT MAX(uye_no) FROM uye'):\n",
        "  print(i)"
      ],
      "metadata": {
        "colab": {
          "base_uri": "https://localhost:8080/"
        },
        "id": "nmOKWIbqPDhg",
        "outputId": "d66601df-6e93-403b-cacc-066b51a6eb75"
      },
      "execution_count": null,
      "outputs": [
        {
          "output_type": "stream",
          "name": "stdout",
          "text": [
            "(2,)\n"
          ]
        }
      ]
    },
    {
      "cell_type": "code",
      "source": [
        "import sqlite3\n",
        "con = sqlite3.connect('kulup.db')\n",
        "cursor= con.cursor()\n",
        "\n",
        "\n",
        "for i in cursor.execute('SELECT SUM(tutar) FROM aidat'):\n",
        "  print('toplam: ',i)"
      ],
      "metadata": {
        "colab": {
          "base_uri": "https://localhost:8080/"
        },
        "id": "xxpaf6iNMhKk",
        "outputId": "2e8bfdaf-d818-4ccc-ac7b-0eb103276bba"
      },
      "execution_count": null,
      "outputs": [
        {
          "output_type": "stream",
          "name": "stdout",
          "text": [
            "toplam:  (300,)\n"
          ]
        }
      ]
    },
    {
      "cell_type": "code",
      "source": [
        "import sqlite3\n",
        "\n",
        "con = sqlite3.connect('kulup1.db')\n",
        "\n",
        "cursor = con.cursor()\n",
        "\n",
        "cursor.execute('CREATE TABLE IF NOT EXISTS uye (uye_no INT PRİMARY KEY, uye_isim TEXT, telefon_no INT, cinsiyet TEXT,sınıfı INT)')\n",
        "while True:\n",
        "  uye_no=int(input('uye_no Giriniz: '))\n",
        "  uye_isim=(input('isim Giriniz: '))\n",
        "  telefon_no=int(input('telefon no Giriniz: '))\n",
        "  cinsiyet=(input('cinsiyet Giriniz: '))\n",
        "  sınıfı = int(input('kaçıncı sınıf olduğunu giriniz: '))\n",
        "  cursor.execute(\"Insert into  uye Values(?,?,?,?,?)\",(uye_no,uye_isim,telefon_no,cinsiyet,sınıfı))\n",
        "  cikis = input('çıkış yapmak istiyor musunuz? E/H: ')\n",
        "  if (cikis == 'E'):\n",
        "    break\n",
        "  elif (cikis == 'H'):\n",
        "    continue\n",
        "\n",
        "\n",
        "\n",
        "cursor.execute('CREATE TABLE IF NOT EXISTS aidat (id INT PRİMARY KEY,uye_no INT, tutar INT, tarih TEXT ,  FOREIGN KEY(uye_no) REFERENCES uye(uye_no))')\n",
        "while True:\n",
        "  id = int(input('id giriniz: '))\n",
        "  uye_no = int(input('uye_no giriniz: '))\n",
        "  tutar = int(input('fatura bedelini giriniz: '))\n",
        "  tarih = input('tarihi giriniz: ')\n",
        "  cursor.execute(\"Insert into aidat values(?,?,?,?)\",(id,uye_no,tutar,tarih))\n",
        "  cikis = input('çıkış yapmak istiyor musunuz? E/H: ')\n",
        "  if (cikis == 'E'):\n",
        "    break\n",
        "  elif (cikis == 'H'):\n",
        "    continue\n",
        "\n",
        "\n",
        "cursor.execute('CREATE TABLE IF NOT EXISTS yonetim (id INT,isim TEXT, gorevi TEXT, telefon_no INT, FOREIGN KEY(id) REFERENCES aidat(id))')\n",
        "while True:\n",
        "  id = int(input('id giriniz: '))\n",
        "  isim = input('isim giriniz: ')\n",
        "  gorevi = input('kişinin görevini giriniz: ')\n",
        "  telefon_no = int(input('telefon no giriniz: '))\n",
        "  cursor.execute(\"Insert into yonetim values(?,?,?,?)\",(id,isim,gorevi,telefon_no))\n",
        "  cikis = input('çıkış yapmak istiyor musunuz? E/H: ')\n",
        "  if (cikis == 'E'):\n",
        "    break\n",
        "  elif (cikis == 'H'):\n",
        "    continue\n",
        "\n",
        "\n",
        "\n",
        "con.commit()\n",
        "\n",
        "\n",
        "\n",
        "\n",
        "con.close()"
      ],
      "metadata": {
        "colab": {
          "base_uri": "https://localhost:8080/"
        },
        "id": "9FH5zgm0xUSf",
        "outputId": "948b94f8-ea4b-4540-cd7a-fc0bd7e2ff88"
      },
      "execution_count": null,
      "outputs": [
        {
          "name": "stdout",
          "output_type": "stream",
          "text": [
            "uye_no Giriniz: 1\n",
            "isim Giriniz: ali\n",
            "telefon no Giriniz: 5555333444\n",
            "cinsiyet Giriniz: erkek\n",
            "kaçıncı sınıf olduğunu giriniz: 1\n",
            "çıkış yapmak istiyor musunuz? E/H: E\n",
            "id giriniz: 1\n",
            "uye_no giriniz: 2\n",
            "fatura bedelini giriniz: 100\n",
            "tarihi giriniz: 10.02.22\n",
            "çıkış yapmak istiyor musunuz? E/H: E\n",
            "id giriniz: 2\n",
            "isim giriniz: ömer\n",
            "kişinin görevini giriniz: bşka\n",
            "telefon no giriniz: 2323\n",
            "çıkış yapmak istiyor musunuz? E/H: E\n"
          ]
        }
      ]
    },
    {
      "cell_type": "code",
      "source": [],
      "metadata": {
        "id": "qXrG7ow8ylkU"
      },
      "execution_count": null,
      "outputs": []
    }
  ]
}