{
  "nbformat": 4,
  "nbformat_minor": 0,
  "metadata": {
    "colab": {
      "provenance": []
    },
    "kernelspec": {
      "name": "python3",
      "display_name": "Python 3"
    },
    "language_info": {
      "name": "python"
    }
  },
  "cells": [
    {
      "cell_type": "code",
      "source": [
        "Tumkisiler= []\n",
        "while True:\n",
        "  a=int(input(\"1,girerseniz kişi ekleme,2 girerseniz kullanıcı silme,3 girerseniz kişi bulma,4 girerseniz kişi düzenleme,5 girerseniz programdan çıkış\"))\n",
        "  if a==1:\n",
        "    def kisi_ekleme():\n",
        "      x=input(\"eklemek istediğiniz kişinin ismi =\")\n",
        "      y=input(\"eklemek istediğiniz numara =\")\n",
        "      Tumkisiler.append([x,y])\n",
        "    kisi_ekleme()\n",
        "    print(\"başarıyla eklendi\",Tumkisiler)\n",
        "  elif a==2:\n",
        "    def kisi_silme():\n",
        "      x=input(\"silmek istediğiniz numara\")\n",
        "      Tumkisiler.index([])\n",
        "    kisi_silme()\n",
        "    print(\"başarıyla silindi\",Tumkisiler)\n",
        "  elif a==3:\n",
        "    x=input(\"bulmak istediğiniz kişi = \")\n",
        "    c=Tumkisiler.index(x)\n",
        "    print(Tumkisiler[c])\n",
        "  elif a==4:\n",
        "    x=input(\"düzenleyeceğiniz kişiyi seçin\")\n",
        "  elif a==5:\n",
        "    break"
      ],
      "metadata": {
        "id": "TJZuM-dneaZp",
        "colab": {
          "base_uri": "https://localhost:8080/"
        },
        "outputId": "8c724396-7e75-442c-d242-004a11c4769d"
      },
      "execution_count": null,
      "outputs": [
        {
          "name": "stdout",
          "output_type": "stream",
          "text": [
            "1,girerseniz kişi ekleme,2 girerseniz kullanıcı silme,3 girerseniz kişi bulma,4 girerseniz kişi düzenleme,5 girerseniz programdan çıkış1\n",
            "eklemek istediğiniz kişinin ismi =\n",
            "eklemek istediğiniz numaras\n",
            "başarıyla eklendi [['', 's']]\n",
            "1,girerseniz kişi ekleme,2 girerseniz kullanıcı silme,3 girerseniz kişi bulma,4 girerseniz kişi düzenleme,5 girerseniz programdan çıkış5\n"
          ]
        }
      ]
    }
  ]
}