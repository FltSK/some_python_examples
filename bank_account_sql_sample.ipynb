{
  "nbformat": 4,
  "nbformat_minor": 0,
  "metadata": {
    "colab": {
      "provenance": []
    },
    "kernelspec": {
      "name": "python3",
      "display_name": "Python 3"
    },
    "language_info": {
      "name": "python"
    }
  },
  "cells": [
    {
      "cell_type": "code",
      "source": [
        "from google.colab import drive\n",
        "drive.mount('/content/drive')"
      ],
      "metadata": {
        "colab": {
          "base_uri": "https://localhost:8080/"
        },
        "id": "3werZ9aOslgk",
        "outputId": "30a25fa6-5067-435a-889b-2434300217dc"
      },
      "execution_count": null,
      "outputs": [
        {
          "output_type": "stream",
          "name": "stdout",
          "text": [
            "Mounted at /content/drive\n"
          ]
        }
      ]
    },
    {
      "cell_type": "code",
      "source": [
        "%cd /content/drive/MyDrive/Colab\\ Notebooks"
      ],
      "metadata": {
        "colab": {
          "base_uri": "https://localhost:8080/"
        },
        "id": "X0MTlIKVsqEd",
        "outputId": "899047ef-5799-4b3c-e8c5-35c3c2fe6171"
      },
      "execution_count": null,
      "outputs": [
        {
          "output_type": "stream",
          "name": "stdout",
          "text": [
            "/content/drive/MyDrive/Colab Notebooks\n"
          ]
        }
      ]
    },
    {
      "cell_type": "code",
      "execution_count": null,
      "metadata": {
        "colab": {
          "base_uri": "https://localhost:8080/"
        },
        "id": "2rIj1g-1SFB9",
        "outputId": "9c2f27f6-fe10-4bd2-d545-d1c33dd72509"
      },
      "outputs": [
        {
          "name": "stdout",
          "output_type": "stream",
          "text": [
            "tc giriniz: 12345678991\n",
            "ad soyad giriniz: ramzan a\n",
            "doğumtarihi giriniz:23.03.1983\n",
            "doğum yeri giriniz: boğlum\n",
            "cinsiyet belirtiniz: erkek\n",
            "çıkmak istiyor musunuz?: E/HE\n",
            "hesap id si giriniz: 2323\n",
            "hesap adı giriniz: z\n",
            "hesap açılış tarihi giriniz: 02.03.16\n",
            "hesap türü giriniz: TL\n",
            "bakiye bilgisi giriniz: 23000\n",
            "çıkmak istiyor musunuz?: E/HE\n",
            "id giriniz: 2323\n",
            "işlem türü giriniz: kira\n",
            "tutar giriniz: 1023\n",
            "müşteri tc si giriniz: 12345678991\n",
            "hesap id giriniz: 2323\n",
            "işlem tarihi giriniz: 06.05.2019\n",
            "çıkmak istiyor musunuz?: E/HE\n"
          ]
        }
      ],
      "source": [
        "import sqlite3\n",
        "\n",
        "con = sqlite3.connect('banka_musteriler.db')\n",
        "\n",
        "cursor = con.cursor()\n",
        "\n",
        "\n",
        "\n",
        "\n",
        "cursor.execute('CREATE TABLE IF NOT EXISTS musteri (TC INT primary key, ad_soyad TEXT,dogum_tarihi TEXT ,dogum_yeri TEXT ,cinsiyet TEXT)')\n",
        "while True:\n",
        "  TC = int(input('tc giriniz: '))\n",
        "  ad_soyad = input('ad soyad giriniz: ')\n",
        "  dogum_tarihi = input('doğumtarihi giriniz:')\n",
        "  dogum_yeri = input('doğum yeri giriniz: ')\n",
        "  cinsiyet= input('cinsiyet belirtiniz: ')\n",
        "  cursor.execute(\"insert into musteri Values(?,?,?,?,?)\",(TC,ad_soyad,dogum_tarihi,dogum_yeri,cinsiyet))\n",
        "  a = input('çıkmak istiyor musunuz?: E/H')\n",
        "  if a == 'E':\n",
        "    break\n",
        "  elif a == 'H':\n",
        "    continue\n",
        "  else:\n",
        "    print(\"Evet için E'yi , Hayır için H'yi tuşlayınız.\")\n",
        "\n",
        "cursor.execute('CREATE TABLE IF NOT EXISTS musteri_hesap (id int primary key, hesap_adi TEXT, hesap_acilis_tarihi TEXT,hesap_turu TEXT,bakiye int)')\n",
        "while True:\n",
        "  id = int(input('hesap id si giriniz: '))\n",
        "  hesap_adi = input('hesap adı giriniz: ')\n",
        "  hesap_acilis_tarihi = input('hesap açılış tarihi giriniz: ')\n",
        "  hesap_turu = input('hesap türü giriniz: ')\n",
        "  bakiye = int(input('bakiye bilgisi giriniz: '))\n",
        "  cursor.execute(\"insert into musteri_hesap Values(?,?,?,?,?)\",(id,hesap_adi,hesap_acilis_tarihi,hesap_turu,bakiye))\n",
        "  a = input('çıkmak istiyor musunuz?: E/H')\n",
        "  if (a == 'E'):\n",
        "    break\n",
        "  elif (a == 'H'):\n",
        "    continue\n",
        "  else:\n",
        "    print(\"Evet için E'yi, Hayır için H'yi tuşlayınız.\")\n",
        "\n",
        "cursor.execute('CREATE TABLE IF NOT EXISTS musteri_hesap_hareket (id int primary key,islem_turu TEXT,tutar int, musteri_tc INT,hesap_id INT, islem_tarihi TEXT, FOREIGN KEY(musteri_tc) REFERENCES musteri(TC), foreign key(hesap_id) REFERENCES musteri_hesap(id))')\n",
        "while True:\n",
        "  id =int(input('id giriniz: '))\n",
        "  islem_turu = input('işlem türü giriniz: ')\n",
        "  tutar = int(input('tutar giriniz: '))\n",
        "  musteri_tc = int(input('müşteri tc si giriniz: '))\n",
        "  hesap_id = int(input('hesap id giriniz: '))\n",
        "  islem_tarihi = input('işlem tarihi giriniz: ')\n",
        "  cursor.execute(\"insert into musteri_hesap_hareket Values(?,?,?,?,?,?)\",(id,islem_turu,tutar,musteri_tc,hesap_id,islem_tarihi))\n",
        "  a = input('çıkmak istiyor musunuz?: E/H')\n",
        "  if (a == 'E'):\n",
        "    break\n",
        "  elif (a == 'H'):\n",
        "    continue\n",
        "  else:\n",
        "    print(\"Evet için E'yi, Hayır için H'yi tuşlayınız.\")\n",
        "\n",
        "con.commit()\n",
        "\n",
        "con.close()\n",
        "\n",
        ""
      ]
    },
    {
      "cell_type": "code",
      "source": [
        "import sqlite3\n",
        "con = sqlite3.connect('banka_musteriler.db')\n",
        "cursor = con.cursor()\n",
        "\n",
        "cursor.execute('SELECT TC,ad_soyad,dogum_yeri,islem_turu,islem_tarihi from musteri inner join musteri_hesap_hareket on musteri.TC = musteri_hesap_hareket.musteri_tc where TC=12345678991')\n",
        "dat = cursor.fetchone()\n",
        "print(dat)"
      ],
      "metadata": {
        "colab": {
          "base_uri": "https://localhost:8080/"
        },
        "id": "81wVyIfQobJz",
        "outputId": "504ae71c-aa2e-4018-a07c-39a85bcfd50b"
      },
      "execution_count": null,
      "outputs": [
        {
          "output_type": "stream",
          "name": "stdout",
          "text": [
            "(12345678991, 'ramzan a', 'boğlum', 'kira', '06.05.2019')\n"
          ]
        }
      ]
    },
    {
      "cell_type": "code",
      "source": [
        "import sqlite3\n",
        "\n",
        "con = sqlite3.connect('banka_musteriler1.db')\n",
        "\n",
        "cursor = con.cursor()\n",
        "\n",
        "\n",
        "\n",
        "\n",
        "cursor.execute('CREATE TABLE IF NOT EXISTS musteri (TC INT primary key, ad_soyad TEXT,dogum_tarihi TEXT ,dogum_yeri TEXT ,cinsiyet TEXT)')\n",
        "\n",
        "cursor.execute('CREATE TABLE IF NOT EXISTS musteri_hesap (id int primary key, hesap_adi TEXT, hesap_acilis_tarihi TEXT,hesap_turu TEXT,bakiye int)')\n",
        "\n",
        "cursor.execute('CREATE TABLE IF NOT EXISTS musteri_hesap_hareket (id int primary key,islem_turu TEXT,tutar int, musteri_tc INT,hesap_id INT, islem_tarihi TEXT, FOREIGN KEY(musteri_tc) REFERENCES musteri(TC),FOREIGN KEY(hesap_id) REFERENCES musteri_hesap(id))')\n",
        "\n",
        "con.commit()\n",
        "\n",
        "con.close()"
      ],
      "metadata": {
        "id": "Dp0Fy7Jjk0l6"
      },
      "execution_count": null,
      "outputs": []
    },
    {
      "cell_type": "code",
      "source": [
        "class Musteri():\n",
        "  def __init__(self,tc,ad_soyad,dogum_tarihi,dogum_yeri,cinsiyet,d_yil):\n",
        "    self.tc = tc\n",
        "    self.ad_soyad = ad_soyad\n",
        "    self.dogum_tarihi = dogum_tarihi\n",
        "    self.dogum_yeri = dogum_yeri\n",
        "    self.cinsiyet = cinsiyet\n",
        "    self.d_yil = d_yil\n",
        "  def yas_goster(self,g_yil):\n",
        "    yas = int(g_yil)-int(self.d_yil)\n",
        "    print(yas)\n",
        "  def musteri_bilgi_goster(self):\n",
        "    print(\"musteri bilgileri: \\n TC: {0} \\n ad soyad: {1} \\n doğum tarihi: {2} \\n doğum yeri: {3} \\n cinsiyet: {4}\".format(self.tc,self.ad_soyad,self.dogum_tarihi,self.dogum_yeri,self.cinsiyet))"
      ],
      "metadata": {
        "id": "TBX0NYXy0QDK"
      },
      "execution_count": null,
      "outputs": []
    },
    {
      "cell_type": "code",
      "source": [
        "import sqlite3\n",
        "con=sqlite3.connect('banka.db')\n",
        "cursor=con.cursor()\n",
        "#cursor.execute('Create Table If Not Exists musteri(tc INT Prımary Key,ad_soyad TEXT,dogum_tarihi TEXT,dogum_yeri TEXT,cinsiyeti TEXT)')\n",
        "cursor.execute(\"Insert Into musteri Values(?,?,?,?,?)\",(12345678991,'Ramazan Aydoğan','23.03.1983','Bağlum','Erkek'))\n",
        "con.commit()\n",
        "con.close()"
      ],
      "metadata": {
        "id": "O9fgCpBCtkwA"
      },
      "execution_count": null,
      "outputs": []
    },
    {
      "cell_type": "code",
      "source": [
        "import sqlite3\n",
        "con=sqlite3.connect('banka_musteriler3')\n",
        "\n",
        "cursor=con.cursor()\n",
        "cursor.execute('Create Table If Not Exists musteri(tc INT Prımary Key,ad_soyad TEXT,dogum_tarihi TEXT,dogum_yeri TEXT,cinsiyeti TEXT)')\n",
        "cursor.execute(\"Insert Into musteri Values(?,?,?,?,?)\",(12345678991,'Ramazan Aydoğan','23.03.1983','Bağlum','Erkek'))\n",
        "con.commit()\n",
        "con.close()"
      ],
      "metadata": {
        "id": "hHXpv2U_uK1j"
      },
      "execution_count": null,
      "outputs": []
    },
    {
      "cell_type": "code",
      "source": [
        "import sqlite3\n",
        "con=sqlite3.connect('banka_musteriler3')\n",
        "cursor=con.cursor()\n",
        "cursor.execute(\"Select * From musteri\")\n",
        "data=cursor.fetchall()\n",
        "for i in data:\n",
        "  print(i)\n",
        "con.commit()\n",
        "con.close()"
      ],
      "metadata": {
        "colab": {
          "base_uri": "https://localhost:8080/"
        },
        "id": "75nE6Ft6u2If",
        "outputId": "14e33560-9a8f-44ae-eb68-e71195dacbfa"
      },
      "execution_count": null,
      "outputs": [
        {
          "output_type": "stream",
          "name": "stdout",
          "text": [
            "(12345678991, 'Ramazan Aydoğan', '23.03.1983', 'Bağlum', 'Erkek')\n",
            "(12345678991, 'Ramazan Aydoğan', '23.03.1983', 'Bağlum', 'Erkek')\n",
            "(12345678991, 'Ramazan Aydoğan', '23.03.1983', 'Bağlum', 'Erkek')\n",
            "(12345678991, 'Ramazan Aydoğan', '23.03.1983', 'Bağlum', 'Erkek')\n"
          ]
        }
      ]
    },
    {
      "cell_type": "code",
      "source": [
        "import sqlite3\n",
        "con=sqlite3.connect('banka_musteriler3')\n",
        "cursor=con.cursor()\n",
        "cursor.execute(\"Select * From musteri where tc=12345678991\")\n",
        "data=cursor.fetchall()\n",
        "for i in data:\n",
        "  print(i)\n",
        "con.close()"
      ],
      "metadata": {
        "colab": {
          "base_uri": "https://localhost:8080/"
        },
        "id": "QffubI3zwzQB",
        "outputId": "3043f8c0-4162-4370-fa3e-ec70f5a8fa85"
      },
      "execution_count": null,
      "outputs": [
        {
          "output_type": "stream",
          "name": "stdout",
          "text": [
            "(12345678991, 'Ramazan Aydoğan', '23.03.1983', 'Bağlum', 'Erkek')\n",
            "(12345678991, 'Ramazan Aydoğan', '23.03.1983', 'Bağlum', 'Erkek')\n",
            "(12345678991, 'Ramazan Aydoğan', '23.03.1983', 'Bağlum', 'Erkek')\n",
            "(12345678991, 'Ramazan Aydoğan', '23.03.1983', 'Bağlum', 'Erkek')\n"
          ]
        }
      ]
    },
    {
      "cell_type": "code",
      "source": [
        "cursor.execute(\"DELETE FROM ders WHERE icerik='Python programlama anlatılıyor'\")"
      ],
      "metadata": {
        "id": "5nt04Bz90GNI"
      },
      "execution_count": null,
      "outputs": []
    },
    {
      "cell_type": "code",
      "source": [
        "import sqlite3\n",
        "con = sqlite3.connect('kulup.db')\n",
        "cursor = con.cursor()\n",
        "\n",
        "\n",
        "cursor.execute(\"Update uye set uye_isim= ? where uye_no = ?\",('ayşe nur',2))\n",
        "con.commit()\n",
        "\n",
        "con.close()"
      ],
      "metadata": {
        "id": "dmZpFxcu2DMb"
      },
      "execution_count": null,
      "outputs": []
    },
    {
      "cell_type": "code",
      "source": [
        "import sqlite3\n",
        "con = sqlite3.connect('kulup.db')\n",
        "cursor= con.cursor()\n",
        "\n",
        "\n",
        "for i in cursor.execute('SELECT SUM(tutar) FROM aidat'):\n",
        "  print('toplam: ',i)"
      ],
      "metadata": {
        "id": "2_HQOW5c76Q2",
        "colab": {
          "base_uri": "https://localhost:8080/"
        },
        "outputId": "77f301d8-084e-41cb-8eb1-5fc24dbce3c9"
      },
      "execution_count": null,
      "outputs": [
        {
          "output_type": "stream",
          "name": "stdout",
          "text": [
            "toplam:  (300,)\n"
          ]
        }
      ]
    },
    {
      "cell_type": "code",
      "source": [
        "import sqlite3\n",
        "con = sqlite3.connect('kulup.db')\n",
        "cursor= con.cursor()\n",
        "\n",
        "for i  in cursor.execute('SELECT MAX(uye_no) FROM uye'):\n",
        "  print(i)"
      ],
      "metadata": {
        "id": "ZH_37NwQ77Jb",
        "colab": {
          "base_uri": "https://localhost:8080/"
        },
        "outputId": "447c6f3b-e155-4343-90cb-c42a6712f537"
      },
      "execution_count": null,
      "outputs": [
        {
          "output_type": "stream",
          "name": "stdout",
          "text": [
            "(2,)\n"
          ]
        }
      ]
    },
    {
      "cell_type": "code",
      "source": [
        "import sqlite3\n",
        "con = sqlite3.connect('kulup.db')\n",
        "cursor= con.cursor()\n",
        "\n",
        "\n",
        "for i in cursor.execute('SELECT uye_no FROM uye'):\n",
        "  for a in cursor.execute('SELECT uye_no FROM uye'):\n",
        "    if i>a:\n",
        "      print(i)\n",
        "    elif a>i:\n",
        "      print('üye sayısı: ',a)"
      ],
      "metadata": {
        "id": "DuqEzqUk8C9I",
        "colab": {
          "base_uri": "https://localhost:8080/"
        },
        "outputId": "dca5062c-891f-4266-9753-9c60d9aed8e3"
      },
      "execution_count": null,
      "outputs": [
        {
          "output_type": "stream",
          "name": "stdout",
          "text": [
            "üye sayısı:  (2,)\n"
          ]
        }
      ]
    },
    {
      "cell_type": "code",
      "source": [],
      "metadata": {
        "id": "xBkm_azB8IGx"
      },
      "execution_count": null,
      "outputs": []
    }
  ]
}