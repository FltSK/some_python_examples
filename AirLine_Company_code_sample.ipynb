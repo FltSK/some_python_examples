{
  "nbformat": 4,
  "nbformat_minor": 0,
  "metadata": {
    "colab": {
      "provenance": []
    },
    "kernelspec": {
      "name": "python3",
      "display_name": "Python 3"
    },
    "language_info": {
      "name": "python"
    }
  },
  "cells": [
    {
      "cell_type": "code",
      "execution_count": null,
      "metadata": {
        "id": "DoUqT7sRroQg"
      },
      "outputs": [],
      "source": [
        "class Ucak():\n",
        "  ucak = []\n",
        "\n",
        "  def __init__(self,ucak_adi,ucak_kodu,ucak_turu,uretim_yili,yolcu_kapasitesi):\n",
        "    self.ucak_adi = ucak_adi\n",
        "    self.ucak_kodu = ucak_kodu\n",
        "    self.ucak_turu = ucak_turu\n",
        "    self. uretim_yili = uretim_yili\n",
        "    self.yolcu_kapasitesi = yolcu_kapasitesi\n",
        "    self.durum = None\n",
        "    self.durum_list=[]\n",
        "    self.ucak.append(ucak_adi)\n",
        "\n",
        "  def ucak_bakim_tanimla(self,yeni_durum):\n",
        "    if yeni_durum == True or False:\n",
        "      self.durum=yeni_durum\n",
        "      self.durum_list.append(self.durum)\n",
        "    else:\n",
        "      print(\"durum true ya da false olmalı !!!\")\n",
        "\n",
        "  def ucak_bakim_durum(self):\n",
        "      print(self.durum_list)\n",
        "\n",
        "class Yolcu():\n",
        "  yolcu = []\n",
        "  def __init__(self,yolcu_adi_soyadi,tc,yas):\n",
        "    self.yolcu_adi_soyadi = yolcu_adi_soyadi\n",
        "    self.tc = tc\n",
        "    self.yas = yas\n",
        "    self.mil = []\n",
        "    self.yolcu_bilgi = []\n",
        "    self.yolcu_bilgi.append(yolcu_adi_soyadi)\n",
        "    self.yolcu_bilgi.append(tc)\n",
        "    self.yolcu_bilgi.append(yas)\n",
        "    self.yolcu.append(yolcu_adi_soyadi)\n",
        "\n",
        "  def mil_ekle(self,bilet_fiyati):\n",
        "    self.mil.append((bilet_fiyati*10)/100)\n",
        "\n",
        "  def mil_goster(self):\n",
        "    print(sum(self.mil))\n",
        "\n",
        "  def yolcu_bilgi_goster(self):\n",
        "    print(self.yolcu_bilgi)\n",
        "    print(sum(self.mil))\n",
        "\n",
        "\n",
        "class Ucus(Yolcu,Ucak):\n",
        "  ucus = []\n",
        "  ucus_yolcu = []\n",
        "  def __init__(self,ucus_adi,ucus_kodu,ucus_tarihi,kalkis_yeri,inis_yeri):\n",
        "    self.ucak_adi = ucus_adi\n",
        "    self.ucus_kodu = ucus_kodu\n",
        "    self.ucus_tarihi = ucus_tarihi\n",
        "    self.kalkis_yeri = kalkis_yeri\n",
        "    self.inis_yeri = inis_yeri\n",
        "    self.ucus.append([ucus_adi,ucus_kodu,ucus_tarihi,kalkis_yeri,inis_yeri])\n",
        "\n",
        "  def ucus_ucagi_ekle(self,ucak_adi):\n",
        "    a = int(input(\"uçağı eklemek istediğiniz uçuşun sırasını giriniz.\"))\n",
        "    for i in self.ucak:\n",
        "      if i == ucak_adi:\n",
        "       self.ucus[a].append(ucak_adi)\n",
        "      else:\n",
        "        print(\"girdiğiniz ucak bulunamadı!!\")\n",
        "\n",
        "  def yolcu_ekle(self,yolcu_ad_soyad):\n",
        "\n",
        "         self.ucus_yolcu.append(yolcu_ad_soyad)\n",
        "\n",
        "  @classmethod\n",
        "  def yolcu_goster(cls):\n",
        "    for i in cls.ucus_yolcu:\n",
        "      for j in i.yolcu_bilgi:\n",
        "        if i.yolcu_adi_soyadi == j:\n",
        "          print(i.yolcu_bilgi_goster())"
      ]
    },
    {
      "cell_type": "code",
      "source": [
        "u1 = Ucak(\"pegasus\",553448,\"yolcu\",2018,2000)"
      ],
      "metadata": {
        "id": "NOeT5LAMt1q4"
      },
      "execution_count": null,
      "outputs": []
    },
    {
      "cell_type": "code",
      "source": [
        "u1.ucak_bakim_tanimla(True)"
      ],
      "metadata": {
        "id": "wglLmuUFuLup"
      },
      "execution_count": null,
      "outputs": []
    },
    {
      "cell_type": "code",
      "source": [
        "u1.ucak_bakim_durum()"
      ],
      "metadata": {
        "colab": {
          "base_uri": "https://localhost:8080/"
        },
        "id": "jTS5eVmiutp6",
        "outputId": "403d066b-7389-45ba-a199-952a008f299d"
      },
      "execution_count": null,
      "outputs": [
        {
          "output_type": "stream",
          "name": "stdout",
          "text": [
            "[True]\n"
          ]
        }
      ]
    },
    {
      "cell_type": "code",
      "source": [
        "serhun_karadeniz = Yolcu(\"serhun_karadeniz\",23765123852,20)\n",
        "hasan_can = Yolcu (\"hasan can yılmaz\",1215548651,21)"
      ],
      "metadata": {
        "id": "W1LQOIOGu82U"
      },
      "execution_count": null,
      "outputs": []
    },
    {
      "cell_type": "code",
      "source": [
        "serhun_karadeniz.mil_ekle(200)"
      ],
      "metadata": {
        "id": "jSPeuLeF0MAZ"
      },
      "execution_count": null,
      "outputs": []
    },
    {
      "cell_type": "code",
      "source": [
        "serhun_karadeniz.mil_goster()"
      ],
      "metadata": {
        "colab": {
          "base_uri": "https://localhost:8080/"
        },
        "id": "qm1ZMx7y0UE5",
        "outputId": "2b460b53-2da4-41fc-922e-d072dab68af4"
      },
      "execution_count": null,
      "outputs": [
        {
          "output_type": "stream",
          "name": "stdout",
          "text": [
            "20.0\n"
          ]
        }
      ]
    },
    {
      "cell_type": "code",
      "source": [
        "serhun_karadeniz.yolcu_bilgi_goster()"
      ],
      "metadata": {
        "colab": {
          "base_uri": "https://localhost:8080/"
        },
        "id": "m2Ir7Oh_0ZjF",
        "outputId": "cf5f759b-3425-4252-ca4f-2a1824399902"
      },
      "execution_count": null,
      "outputs": [
        {
          "output_type": "stream",
          "name": "stdout",
          "text": [
            "['serhun_karadeniz', 23765123852, 20]\n",
            "20.0\n"
          ]
        }
      ]
    },
    {
      "cell_type": "code",
      "source": [
        "S1 = Ucus(\"direkt ucus\",5534,\"25 nisan 2022\",\"istanbul\",\"samsun\")\n",
        "S2 = Ucus(\"direkt ucus\",5534,\"25 nisan 2022\",\"istanbul\",\"trabzon\")"
      ],
      "metadata": {
        "id": "p3Vrspbc0xtq"
      },
      "execution_count": null,
      "outputs": []
    },
    {
      "cell_type": "code",
      "source": [
        "Ucus.ucus"
      ],
      "metadata": {
        "colab": {
          "base_uri": "https://localhost:8080/"
        },
        "id": "iFEVfZtZ534Z",
        "outputId": "f60a9306-cf44-44d2-e71e-4716f09aeb29"
      },
      "execution_count": null,
      "outputs": [
        {
          "output_type": "execute_result",
          "data": {
            "text/plain": [
              "[['direkt ucus', 5534, '25 nisan 2022', 'istanbul', 'samsun'],\n",
              " ['direkt ucus', 5534, '25 nisan 2022', 'istanbul', 'trabzon']]"
            ]
          },
          "metadata": {},
          "execution_count": 587
        }
      ]
    },
    {
      "cell_type": "code",
      "source": [
        "S1.ucus_ucagi_ekle(\"pegasus\")"
      ],
      "metadata": {
        "colab": {
          "base_uri": "https://localhost:8080/"
        },
        "id": "TmjCn58n66Ub",
        "outputId": "88dc69db-430e-4920-f5a3-547854dc8d0f"
      },
      "execution_count": null,
      "outputs": [
        {
          "name": "stdout",
          "output_type": "stream",
          "text": [
            "uçağı eklemek istediğiniz uçuşun sırasını giriniz.0\n"
          ]
        }
      ]
    },
    {
      "cell_type": "code",
      "source": [
        "S1.yolcu_ekle(serhun_karadeniz)"
      ],
      "metadata": {
        "id": "Ldd7MQ2N8pQO"
      },
      "execution_count": null,
      "outputs": []
    },
    {
      "cell_type": "code",
      "source": [
        "S1.yolcu_ekle(hasan_can)"
      ],
      "metadata": {
        "id": "QDu5Wnf2c35e"
      },
      "execution_count": null,
      "outputs": []
    },
    {
      "cell_type": "code",
      "source": [
        "Ucus.yolcu_goster()"
      ],
      "metadata": {
        "colab": {
          "base_uri": "https://localhost:8080/"
        },
        "id": "ICR3uVMJPQuz",
        "outputId": "77881dfd-45b0-41c2-a703-87b652dd1953"
      },
      "execution_count": null,
      "outputs": [
        {
          "output_type": "stream",
          "name": "stdout",
          "text": [
            "['serhun_karadeniz', 23765123852, 20]\n",
            "20.0\n",
            "None\n",
            "['hasan can yılmaz', 1215548651, 21]\n",
            "0\n",
            "None\n"
          ]
        }
      ]
    }
  ]
}