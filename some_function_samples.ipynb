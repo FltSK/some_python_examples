{
  "cells": [
    {
      "cell_type": "code",
      "execution_count": null,
      "metadata": {
        "colab": {
          "base_uri": "https://localhost:8080/"
        },
        "id": "QdaCMFlK3jyS",
        "outputId": "aacae738-35ca-4cf8-b602-d954d590b2f0"
      },
      "outputs": [
        {
          "name": "stdout",
          "output_type": "stream",
          "text": [
            "23 ile 223 sayıları arasında bir sayı giriniz:50\n",
            "44 ile 123 arasındaki sayıların toplamı = 6513\n",
            "123 ile 223 arasındaki sayıların toplamı = 17127\n",
            "223 222 221 220 219 218 217 216 215 214 213 212 211 210 209 208 207 206 205 204 203 202 201 200 199 198 197 196 195 194 193 192 191 190 189 188 187 186 185 184 183 182 181 180 179 178 177 176 175 174 173 172 171 170 169 168 167 166 165 164 163 162 161 160 159 158 157 156 155 154 "
          ]
        }
      ],
      "source": [
        "def islem():\n",
        "  toplam1=0\n",
        "  for i in range(45,123):\n",
        "    toplam1+=i\n",
        "  print(\"44 ile 123 arasındaki sayıların toplamı = {}\".format(toplam1))\n",
        "  toplam2=0\n",
        "  for j in range(124,223):\n",
        "    toplam2+=j\n",
        "  print(\"123 ile 223 arasındaki sayıların toplamı = {}\".format(toplam2))\n",
        "  for k in range(223,153,-1):\n",
        "    print(k,end=\" \")\n",
        "while True:\n",
        "  a=int(input(\"23 ile 223 sayıları arasında bir sayı giriniz:\"))\n",
        "  if 23 < a < 223:\n",
        "    islem()\n",
        "    break"
      ]
    },
    {
      "cell_type": "code",
      "execution_count": null,
      "metadata": {
        "colab": {
          "base_uri": "https://localhost:8080/"
        },
        "id": "18yPmqslHkLj",
        "outputId": "b1746540-474b-4b8a-e943-6b1b46f190af"
      },
      "outputs": [
        {
          "name": "stdout",
          "output_type": "stream",
          "text": [
            "1249\n"
          ]
        }
      ],
      "source": [
        "def topla(x,y,z):\n",
        "  return x+y+z\n",
        "\n",
        "def carp(x,y):\n",
        "  return x*y\n",
        "#toplam=topla(23,15,29)\n",
        "#carpım1=carp(39,13)\n",
        "#carpım2=carp(45,15)\n",
        "print(topla(topla(23,15,29),carp(39,13),carp(45,15)))"
      ]
    },
    {
      "cell_type": "code",
      "execution_count": null,
      "metadata": {
        "id": "f9zm3ZgsHypA"
      },
      "outputs": [],
      "source": [
        "def bolme(x,y):\n",
        "  if y==0:\n",
        "    print(\"payda sıfır olamaz\")\n",
        "  else:\n",
        "    return x/y"
      ]
    },
    {
      "cell_type": "code",
      "execution_count": null,
      "metadata": {
        "id": "hQU2J4mZH0uy"
      },
      "outputs": [],
      "source": [
        "bolme(2,0)"
      ]
    },
    {
      "cell_type": "markdown",
      "metadata": {
        "id": "fgw1YMU3H6bs"
      },
      "source": [
        "#iki kenarı alıcak x ve y kenarın durmuna göre dikdörtgen yada kare olduğunu yazdırıcak,alanı ve çevresini de alıcak yazdırıcak."
      ]
    },
    {
      "cell_type": "code",
      "execution_count": null,
      "metadata": {
        "colab": {
          "base_uri": "https://localhost:8080/"
        },
        "id": "agAophdoeSrN",
        "outputId": "3dc89ac1-fafb-4606-e6f5-b1a60d692aec"
      },
      "outputs": [
        {
          "name": "stdout",
          "output_type": "stream",
          "text": [
            "bu bir dikdörtgen ve alanı 150 ,çevresi 50 \n"
          ]
        }
      ],
      "source": [
        "def kare(x,y):\n",
        "  if x==y :\n",
        "    alan=x*y\n",
        "    çevre=2*x+2*y\n",
        "    print(\"bu bir kare ve alanı {} ,çevresi {} \".format(alan,çevre))\n",
        "  else:\n",
        "    alan=x*y\n",
        "    çevre=2*x+2*y\n",
        "    print(\"bu bir dikdörtgen ve alanı {} ,çevresi {} \".format(alan,çevre))\n",
        "kare(10,15)"
      ]
    },
    {
      "cell_type": "code",
      "execution_count": null,
      "metadata": {
        "colab": {
          "base_uri": "https://localhost:8080/"
        },
        "id": "7vsh2XxiH-hl",
        "outputId": "75981c70-6d23-46e7-e8fe-98dfe63fb3a5"
      },
      "outputs": [
        {
          "name": "stdout",
          "output_type": "stream",
          "text": [
            "bu bir kare\n",
            "alan 100\n",
            "çevre 40\n"
          ]
        },
        {
          "data": {
            "text/plain": [
              "(100, 40)"
            ]
          },
          "execution_count": 1,
          "metadata": {},
          "output_type": "execute_result"
        }
      ],
      "source": [
        "def kare1(x,y):\n",
        "  alan=x*y\n",
        "  çevre=2*x+2*y\n",
        "  if x==y :\n",
        "    print(\"bu bir kare\")\n",
        "    print(\"alan\",alan)\n",
        "    print(\"çevre\",çevre)\n",
        "  else:\n",
        "    print(\"bu bir dikdörtgen\")\n",
        "    print(\"alan {}\".format(alan))\n",
        "    print(\"çevre {}\".format(çevre))\n",
        "  return alan,çevre\n",
        "kare1(10,10)"
      ]
    },
    {
      "cell_type": "code",
      "execution_count": null,
      "metadata": {
        "id": "Kv8CYc3fI1vZ"
      },
      "outputs": [],
      "source": [
        "def yas():\n",
        "  a=int(input(\"doğum yılınızı giriniz\"))\n",
        "  b=int(input(\"güncel yılı giriniz\"))\n",
        "  c=b-a\n",
        "  print(\"yaşınız =\",c)"
      ]
    },
    {
      "cell_type": "code",
      "execution_count": null,
      "metadata": {
        "colab": {
          "base_uri": "https://localhost:8080/"
        },
        "id": "CSpxDD5hI2dz",
        "outputId": "5e46dc84-7c73-462a-bb60-f5c914e92b12"
      },
      "outputs": [
        {
          "name": "stdout",
          "output_type": "stream",
          "text": [
            "doğum yılınızı giriniz1990\n",
            "güncel yılı giriniz2025\n",
            "yaşınız = 35\n"
          ]
        }
      ],
      "source": [
        "yas()"
      ]
    },
    {
      "cell_type": "code",
      "execution_count": null,
      "metadata": {
        "colab": {
          "base_uri": "https://localhost:8080/"
        },
        "id": "3grDBEoFJAwy",
        "outputId": "d291949a-3a88-4e6a-add0-0308cbd87862"
      },
      "outputs": [
        {
          "name": "stdout",
          "output_type": "stream",
          "text": [
            "metin giriniz =merhabalar\n",
            "m\n",
            "e\n",
            "r\n",
            "h\n",
            "a\n",
            "b\n",
            "a\n",
            "l\n",
            "a\n",
            "r\n"
          ]
        }
      ],
      "source": [
        "metin=input(\"metin giriniz =\")\n",
        "sayac=0\n",
        "while sayac<len(metin):\n",
        "  print(metin[sayac])\n",
        "  sayac+=1"
      ]
    },
    {
      "cell_type": "markdown",
      "metadata": {
        "id": "kbzNEPL2JIxC"
      },
      "source": [
        "#ders notları adında bir fonksiyon yazınız.Bu fonksiyon içerisinde , isim ,soyisim ,ders notugirilmesi istensin, bu bilgiler\n",
        "#liste içerisinde kaydedilsin, kullanıcı \"end\" ifadesini giriğinde yeni girişler durdurulsun liste ekrana yazdırılsın. bu fonksiyon çağırılarak\n",
        "#işlem gerçekleşsin."
      ]
    },
    {
      "cell_type": "code",
      "execution_count": 12,
      "metadata": {
        "id": "P2XDO_xSz6H7"
      },
      "outputs": [],
      "source": [
        "def ders_notları():\n",
        "  liste=[]\n",
        "  while True:\n",
        "    a=input(\"isminizi giriniz =\")\n",
        "    if a==\"end\":\n",
        "      break\n",
        "    b=input(\"soyisim giriniz =\")\n",
        "    c=input(\"ders notu = \")\n",
        "    liste.append((a,b,c))\n",
        "  print(liste)"
      ]
    },
    {
      "cell_type": "code",
      "execution_count": 13,
      "metadata": {
        "colab": {
          "base_uri": "https://localhost:8080/"
        },
        "id": "uNli6tZHz_A4",
        "outputId": "9c7314a4-4fd4-491a-b4d7-08bfdab14657"
      },
      "outputs": [
        {
          "output_type": "stream",
          "name": "stdout",
          "text": [
            "isminizi giriniz =a\n",
            "soyisim giriniz =s\n",
            "ders notu = 52\n",
            "isminizi giriniz =end\n",
            "[('a', 's', '52')]\n"
          ]
        }
      ],
      "source": [
        "ders_notları()"
      ]
    },
    {
      "cell_type": "markdown",
      "source": [
        "# bilgisayar programlama dersinin yüzdelikleri: ara imtihan %30 quiz %15 yılsonu imtihanı %55 dir. ortalama_hesaplama adında bir\n",
        "#fonksiyon tanımlayıp ara imtihan-quiz ve yılsonu imtihanı nın parametre olarak alıpağırlıklara göre ortalamayı hesaplayıp eğer\n",
        "#ortalama 35 altı ise kaldınız üzeri ise geçtiniz yazdıran kodu yazınız."
      ],
      "metadata": {
        "id": "UXBLk81sJknc"
      }
    },
    {
      "cell_type": "code",
      "source": [
        "def ortalama_hesaplama():\n",
        "  a=int(input(\"ara imtihan notunu giriniz =\"))\n",
        "  b=int(input(\"quiz imtihan notunu giriniz =\"))\n",
        "  c=int(input(\"yılsonu imtihan notunu giriniz =\"))\n",
        "  ortalama = a*(30/100)+b*(15/100)+c*(55/100)\n",
        "  print(ortalama)\n",
        "  if ortalama>35 :\n",
        "    print(\"geçtiniz\")\n",
        "  else:\n",
        "    print(\"kaldınız\")"
      ],
      "metadata": {
        "id": "6_rETkruzpgf"
      },
      "execution_count": 14,
      "outputs": []
    },
    {
      "cell_type": "code",
      "source": [
        "ortalama_hesaplama()"
      ],
      "metadata": {
        "colab": {
          "base_uri": "https://localhost:8080/"
        },
        "id": "DLDPsOidztzK",
        "outputId": "093ac91a-a684-4b9b-8cae-b7963b7e726f"
      },
      "execution_count": null,
      "outputs": [
        {
          "output_type": "stream",
          "name": "stdout",
          "text": [
            "ara imtihan notunu giriniz =60\n",
            "quiz imtihan notunu giriniz =80\n",
            "yılsonu imtihan notunu giriniz =20\n",
            "41.0\n",
            "geçtiniz\n"
          ]
        }
      ]
    }
  ],
  "metadata": {
    "colab": {
      "provenance": []
    },
    "kernelspec": {
      "display_name": "Python 3",
      "name": "python3"
    },
    "language_info": {
      "name": "python"
    }
  },
  "nbformat": 4,
  "nbformat_minor": 0
}